{
 "cells": [
  {
   "cell_type": "markdown",
   "metadata": {},
   "source": [
    "### Functions:\n",
    "* A Function is a block of code used to perform a specific task.\n",
    "* When we define a function,it can be used for number of times.\n",
    "* Functions allows us to break the huge code into small chunks.\n",
    "* We will def keyword for creating a function.\n",
    "* Argument : variable names\n",
    "* Parameter : value \n",
    "* There are three types of functions:\n",
    "    * Built-in-Functions -- functions by default available in python\n",
    "    * User Defined Functions--- functions created by user\n",
    "    * Anonymous functions --- functions without name eg: lambda\n",
    "    \n",
    "    \n"
   ]
  },
  {
   "cell_type": "raw",
   "metadata": {},
   "source": [
    "Syntax : \n",
    "\n",
    "def function_name(arguments/parameters):\n",
    "    statement 1\n",
    "    coditions\n",
    "    return expression"
   ]
  },
  {
   "cell_type": "code",
   "execution_count": 3,
   "metadata": {},
   "outputs": [
    {
     "name": "stdout",
     "output_type": "stream",
     "text": [
      "Good Morning\n"
     ]
    }
   ],
   "source": [
    "def sample():\n",
    "    print(\"Good Morning\")\n",
    "    \n",
    "sample()"
   ]
  },
  {
   "cell_type": "code",
   "execution_count": 4,
   "metadata": {},
   "outputs": [],
   "source": [
    "def sample1(a):\n",
    "    print(a)\n",
    "    "
   ]
  },
  {
   "cell_type": "code",
   "execution_count": 5,
   "metadata": {},
   "outputs": [
    {
     "name": "stdout",
     "output_type": "stream",
     "text": [
      "Welcome to DataScience\n"
     ]
    }
   ],
   "source": [
    "sample1(\"Welcome to DataScience\")"
   ]
  },
  {
   "cell_type": "code",
   "execution_count": 7,
   "metadata": {},
   "outputs": [
    {
     "data": {
      "text/plain": [
       "30"
      ]
     },
     "execution_count": 7,
     "metadata": {},
     "output_type": "execute_result"
    }
   ],
   "source": [
    "def sample1(a = 10,b = 20):\n",
    "    c = a  + b\n",
    "    return c\n",
    "sample1()"
   ]
  },
  {
   "cell_type": "code",
   "execution_count": 8,
   "metadata": {},
   "outputs": [
    {
     "name": "stdout",
     "output_type": "stream",
     "text": [
      "Name :  Niharikaa\n",
      "Empid :  1234\n",
      "Organisation :  Apssdc\n"
     ]
    }
   ],
   "source": [
    "def details(name,empid,organisation):\n",
    "    print('Name : ',name)\n",
    "    print('Empid : ',empid)\n",
    "    print('Organisation : ',organisation)\n",
    "details(\"Niharikaa\",1234,\"Apssdc\")"
   ]
  },
  {
   "cell_type": "code",
   "execution_count": 10,
   "metadata": {},
   "outputs": [
    {
     "data": {
      "text/plain": [
       "100"
      ]
     },
     "execution_count": 10,
     "metadata": {},
     "output_type": "execute_result"
    }
   ],
   "source": [
    "### square of a number:\n",
    "def square(n):\n",
    "    return n * n\n",
    "square(10)"
   ]
  },
  {
   "cell_type": "code",
   "execution_count": 11,
   "metadata": {},
   "outputs": [
    {
     "data": {
      "text/plain": [
       "625"
      ]
     },
     "execution_count": 11,
     "metadata": {},
     "output_type": "execute_result"
    }
   ],
   "source": [
    "square(25)"
   ]
  },
  {
   "cell_type": "code",
   "execution_count": 13,
   "metadata": {},
   "outputs": [
    {
     "name": "stdout",
     "output_type": "stream",
     "text": [
      "10  Even number\n"
     ]
    }
   ],
   "source": [
    "### Even_odd :\n",
    "\n",
    "def even_odd(n):\n",
    "    \"\"\"This function is for finding even or odd of a given number\"\"\"\n",
    "    if n % 2 == 0:\n",
    "        print(n,\" Even number\")\n",
    "    else:\n",
    "        print(n,\" Odd number\")\n",
    "even_odd(10)"
   ]
  },
  {
   "cell_type": "code",
   "execution_count": 14,
   "metadata": {},
   "outputs": [
    {
     "name": "stdout",
     "output_type": "stream",
     "text": [
      "This function is for finding even or odd of a given number\n"
     ]
    }
   ],
   "source": [
    "print(even_odd.__doc__)"
   ]
  },
  {
   "cell_type": "code",
   "execution_count": 15,
   "metadata": {},
   "outputs": [
    {
     "data": {
      "text/plain": [
       "'Andhrapradesh state skill Development corporation '"
      ]
     },
     "execution_count": 15,
     "metadata": {},
     "output_type": "execute_result"
    }
   ],
   "source": [
    "## Create a function for combining first name,middle name and last name\n",
    "\n",
    "def fullname(first,middle,last):\n",
    "    full_name = \"{} {} {} \".format(first,middle,last)\n",
    "    return full_name\n",
    "fullname(\"Andhrapradesh\",\"state skill\",\"Development corporation\")"
   ]
  },
  {
   "cell_type": "code",
   "execution_count": 16,
   "metadata": {},
   "outputs": [
    {
     "data": {
      "text/plain": [
       "'Andhrapradesh state skill Development corporation '"
      ]
     },
     "execution_count": 16,
     "metadata": {},
     "output_type": "execute_result"
    }
   ],
   "source": [
    "def fullname(first,middle,last):\n",
    "    full_name = \"{} {} {} \".format(first,middle,last)\n",
    "    return full_name\n",
    "fullname(middle = \"state skill\",first = \"Andhrapradesh\",last = \"Development corporation\")"
   ]
  },
  {
   "cell_type": "code",
   "execution_count": 17,
   "metadata": {},
   "outputs": [
    {
     "ename": "TypeError",
     "evalue": "fullname() missing 2 required positional arguments: 'middle' and 'last'",
     "output_type": "error",
     "traceback": [
      "\u001b[1;31m---------------------------------------------------------------------------\u001b[0m",
      "\u001b[1;31mTypeError\u001b[0m                                 Traceback (most recent call last)",
      "\u001b[1;32m<ipython-input-17-b7d8975d5672>\u001b[0m in \u001b[0;36m<module>\u001b[1;34m\u001b[0m\n\u001b[1;32m----> 1\u001b[1;33m \u001b[0mfullname\u001b[0m\u001b[1;33m(\u001b[0m\u001b[1;34m\"Niharikaa\"\u001b[0m\u001b[1;33m)\u001b[0m\u001b[1;33m\u001b[0m\u001b[1;33m\u001b[0m\u001b[0m\n\u001b[0m",
      "\u001b[1;31mTypeError\u001b[0m: fullname() missing 2 required positional arguments: 'middle' and 'last'"
     ]
    }
   ],
   "source": [
    "fullname(\"Niharikaa\")"
   ]
  },
  {
   "cell_type": "code",
   "execution_count": 18,
   "metadata": {},
   "outputs": [
    {
     "data": {
      "text/plain": [
       "14"
      ]
     },
     "execution_count": 18,
     "metadata": {},
     "output_type": "execute_result"
    }
   ],
   "source": [
    "### global and local variables in functions:\n",
    "## global variable : variable defined outside the function.\n",
    "## local variable : variable defined inside the function,cannot be accessed outside function.\n",
    "\n",
    "a = 14  ### global variable\n",
    "def myfun():\n",
    "    return a\n",
    "myfun()\n"
   ]
  },
  {
   "cell_type": "code",
   "execution_count": 22,
   "metadata": {},
   "outputs": [
    {
     "data": {
      "text/plain": [
       "12"
      ]
     },
     "execution_count": 22,
     "metadata": {},
     "output_type": "execute_result"
    }
   ],
   "source": [
    "def myfun1():\n",
    "    d = 12   ### local variable\n",
    "    return d\n",
    "myfun1()"
   ]
  },
  {
   "cell_type": "code",
   "execution_count": 23,
   "metadata": {},
   "outputs": [
    {
     "ename": "NameError",
     "evalue": "name 'd' is not defined",
     "output_type": "error",
     "traceback": [
      "\u001b[1;31m---------------------------------------------------------------------------\u001b[0m",
      "\u001b[1;31mNameError\u001b[0m                                 Traceback (most recent call last)",
      "\u001b[1;32m<ipython-input-23-e983f374794d>\u001b[0m in \u001b[0;36m<module>\u001b[1;34m\u001b[0m\n\u001b[1;32m----> 1\u001b[1;33m \u001b[0md\u001b[0m\u001b[1;33m\u001b[0m\u001b[1;33m\u001b[0m\u001b[0m\n\u001b[0m",
      "\u001b[1;31mNameError\u001b[0m: name 'd' is not defined"
     ]
    }
   ],
   "source": [
    "d"
   ]
  },
  {
   "cell_type": "code",
   "execution_count": 25,
   "metadata": {},
   "outputs": [
    {
     "name": "stdout",
     "output_type": "stream",
     "text": [
      "10\n",
      "20\n"
     ]
    },
    {
     "data": {
      "text/plain": [
       "(20, 10)"
      ]
     },
     "execution_count": 25,
     "metadata": {},
     "output_type": "execute_result"
    }
   ],
   "source": [
    "##create a function for swaping two numbers:\n",
    "\n",
    "def swap():\n",
    "    a = int(input())\n",
    "    b = int(input())\n",
    "    temp = a\n",
    "    a = b\n",
    "    b = temp\n",
    "    return a,b\n",
    "swap()"
   ]
  },
  {
   "cell_type": "code",
   "execution_count": 29,
   "metadata": {},
   "outputs": [
    {
     "data": {
      "text/plain": [
       "(14, 20)"
      ]
     },
     "execution_count": 29,
     "metadata": {},
     "output_type": "execute_result"
    }
   ],
   "source": [
    "def swap(a,b):\n",
    "    a,b = b,a\n",
    "    return a,b\n",
    "\n",
    "swap(a,b)"
   ]
  },
  {
   "cell_type": "code",
   "execution_count": 27,
   "metadata": {},
   "outputs": [
    {
     "name": "stdout",
     "output_type": "stream",
     "text": [
      "(6, 5)\n"
     ]
    }
   ],
   "source": [
    "def swap(a,b):\n",
    "    return b,a\n",
    "\n",
    "print(swap(5,6))\n"
   ]
  },
  {
   "cell_type": "code",
   "execution_count": 2,
   "metadata": {},
   "outputs": [
    {
     "name": "stdout",
     "output_type": "stream",
     "text": [
      "Enter the start value : 1\n",
      "Enter the end value : 5\n",
      "1\n",
      "2\n",
      "6\n",
      "24\n",
      "120\n"
     ]
    }
   ],
   "source": [
    "### create a function for finding the factorial of the numbers in the given range\n",
    "\n",
    "### 2 -- 1 * 2 \n",
    "## 3 --- 1 * 2 * 3\n",
    "### 4  --- 1 * 2 * 3 * 4\n",
    "\n",
    "\n",
    "def fact(n):\n",
    "    a=1\n",
    "    for i in range(1,n+1):\n",
    "        a=a*i\n",
    "    return a\n",
    "\n",
    "def fact_range():\n",
    "    start=int(input(\"Enter the start value : \"))\n",
    "    end=int(input(\"Enter the end value : \"))\n",
    "    for i in range(start,end+1):\n",
    "        print(fact(i))\n",
    "fact_range()"
   ]
  },
  {
   "cell_type": "code",
   "execution_count": 41,
   "metadata": {},
   "outputs": [
    {
     "data": {
      "text/plain": [
       "6"
      ]
     },
     "execution_count": 41,
     "metadata": {},
     "output_type": "execute_result"
    }
   ],
   "source": [
    "### factorial of a given number:\n",
    "def fact(n):\n",
    "    a=1\n",
    "    for i in range(1,n+1):\n",
    "        a=a*i\n",
    "    return a\n",
    "fact(3)"
   ]
  },
  {
   "cell_type": "code",
   "execution_count": 55,
   "metadata": {},
   "outputs": [
    {
     "data": {
      "text/plain": [
       "1"
      ]
     },
     "execution_count": 55,
     "metadata": {},
     "output_type": "execute_result"
    }
   ],
   "source": [
    "def fact(n):\n",
    "    a=1\n",
    "    for i in range(1,n+1):\n",
    "        for j in range (1,i+1):\n",
    "            a=a*j\n",
    "        return a\n",
    "\n",
    "fact(3)"
   ]
  },
  {
   "cell_type": "code",
   "execution_count": 8,
   "metadata": {},
   "outputs": [
    {
     "name": "stdout",
     "output_type": "stream",
     "text": [
      "2\n",
      "6\n",
      "24\n",
      "120\n"
     ]
    }
   ],
   "source": [
    "def fact(s,n):\n",
    "        for i in range(s,n+1):\n",
    "            a=1\n",
    "            for j in range (1,i+1):\n",
    "                a=a*j\n",
    "\n",
    "            print(a)\n",
    "fact(2,5)"
   ]
  },
  {
   "cell_type": "code",
   "execution_count": 33,
   "metadata": {},
   "outputs": [
    {
     "name": "stdout",
     "output_type": "stream",
     "text": [
      "121  is not prime\n"
     ]
    }
   ],
   "source": [
    "## create a function for finding whether the given number is prime or not .\n",
    "\n",
    "def prime(n):\n",
    "    count = 0\n",
    "    for i in range(1,n+1):\n",
    "        if n % i  == 0:\n",
    "             count += 1\n",
    "    if count == 2 :\n",
    "        print(n, \" is prime\")\n",
    "    else:\n",
    "        print(n,\" is not prime\")\n",
    "                \n",
    "prime(121)        \n"
   ]
  },
  {
   "cell_type": "code",
   "execution_count": 13,
   "metadata": {
    "collapsed": true
   },
   "outputs": [
    {
     "name": "stdout",
     "output_type": "stream",
     "text": [
      "Enter the start: 1\n",
      "Enter the end: 5\n",
      "1\n",
      "1\n",
      "2\n",
      "6\n",
      "24\n",
      "120\n",
      "720\n"
     ]
    }
   ],
   "source": [
    "def fact():\n",
    "    st = int(input(\"Enter the start: \"))\n",
    "    en = int(input(\"Enter the end: \"))\n",
    "    res = 1\n",
    "    for i in (st,en+1):\n",
    "        for j in range(1,i+1):\n",
    "            res = res*j\n",
    "            print(res)\n",
    "fact()\n"
   ]
  },
  {
   "cell_type": "code",
   "execution_count": 36,
   "metadata": {},
   "outputs": [
    {
     "name": "stdout",
     "output_type": "stream",
     "text": [
      "Enter a number: 10\n",
      "Given number is not a prime number\n"
     ]
    }
   ],
   "source": [
    "def prime():\n",
    "    a=int(input(\"Enter a number: \"))\n",
    "    b=int(a/2)\n",
    "    temp=0\n",
    "    for i in range(2,b):\n",
    "        if(a%i==0):\n",
    "            temp=1\n",
    "    if(temp==0):\n",
    "        print(\"Given number is a prime number\")\n",
    "    else:\n",
    "        print(\"Given number is not a prime number\")\n",
    "\n",
    "prime()\n"
   ]
  },
  {
   "cell_type": "code",
   "execution_count": 41,
   "metadata": {},
   "outputs": [
    {
     "data": {
      "text/plain": [
       "34"
      ]
     },
     "execution_count": 41,
     "metadata": {},
     "output_type": "execute_result"
    }
   ],
   "source": [
    "### create a function for finding the fibanocci series by recursive method:\n",
    "\n",
    "## 0 1 1 2 3 5 8 13 21 34\n",
    "\n",
    "\n",
    "def fibanocci(n):\n",
    "    if n == 0 or n == 1:\n",
    "        return n\n",
    "    elif n == 2:\n",
    "        return 1\n",
    "    else:\n",
    "        return (fibanocci(n-1) + fibanocci(n - 2))\n",
    "fibanocci(9)\n",
    "        "
   ]
  },
  {
   "cell_type": "markdown",
   "metadata": {},
   "source": [
    "#### Task:\n",
    "\n",
    "* create a function for finding the leap years within the given range\n",
    "* Create a function for getting the armstrong numbers within the given range\n",
    "* create a function for getting the prime numbers within the range\n",
    "* Create a function for finding the count of elements in a string.\n",
    "    \"Srm university\"\n",
    "    \n"
   ]
  },
  {
   "cell_type": "markdown",
   "metadata": {},
   "source": [
    "### Kwargs and args:\n",
    "\n",
    "\n",
    "#### Args:\n",
    "\n",
    "* Arguments -- *args to be defined in the function to use as many arguments as we want.\n",
    "\n",
    "#### Keyword arguments:\n",
    "\n",
    "* **kwargs --These will be defined in the dictionary format.\n",
    "* keyword variable considered as the key and the parameter will be taken as value."
   ]
  },
  {
   "cell_type": "code",
   "execution_count": 42,
   "metadata": {},
   "outputs": [
    {
     "ename": "TypeError",
     "evalue": "add() takes 3 positional arguments but 4 were given",
     "output_type": "error",
     "traceback": [
      "\u001b[1;31m---------------------------------------------------------------------------\u001b[0m",
      "\u001b[1;31mTypeError\u001b[0m                                 Traceback (most recent call last)",
      "\u001b[1;32m<ipython-input-42-49aa05b6f311>\u001b[0m in \u001b[0;36m<module>\u001b[1;34m\u001b[0m\n\u001b[0;32m      1\u001b[0m \u001b[1;32mdef\u001b[0m \u001b[0madd\u001b[0m\u001b[1;33m(\u001b[0m\u001b[0ma\u001b[0m\u001b[1;33m,\u001b[0m\u001b[0mb\u001b[0m\u001b[1;33m,\u001b[0m\u001b[0mc\u001b[0m\u001b[1;33m)\u001b[0m\u001b[1;33m:\u001b[0m\u001b[1;33m\u001b[0m\u001b[1;33m\u001b[0m\u001b[0m\n\u001b[0;32m      2\u001b[0m     \u001b[1;32mreturn\u001b[0m \u001b[0ma\u001b[0m \u001b[1;33m+\u001b[0m \u001b[0mb\u001b[0m \u001b[1;33m+\u001b[0m \u001b[0mc\u001b[0m\u001b[1;33m\u001b[0m\u001b[1;33m\u001b[0m\u001b[0m\n\u001b[1;32m----> 3\u001b[1;33m \u001b[0madd\u001b[0m\u001b[1;33m(\u001b[0m\u001b[1;36m10\u001b[0m\u001b[1;33m,\u001b[0m\u001b[1;36m20\u001b[0m\u001b[1;33m,\u001b[0m\u001b[1;36m30\u001b[0m\u001b[1;33m,\u001b[0m\u001b[1;36m40\u001b[0m\u001b[1;33m)\u001b[0m\u001b[1;33m\u001b[0m\u001b[1;33m\u001b[0m\u001b[0m\n\u001b[0m",
      "\u001b[1;31mTypeError\u001b[0m: add() takes 3 positional arguments but 4 were given"
     ]
    }
   ],
   "source": [
    "def add(a,b,c):\n",
    "    return a + b + c\n",
    "add(10,20,30,40)"
   ]
  },
  {
   "cell_type": "code",
   "execution_count": 44,
   "metadata": {},
   "outputs": [
    {
     "data": {
      "text/plain": [
       "100"
      ]
     },
     "execution_count": 44,
     "metadata": {},
     "output_type": "execute_result"
    }
   ],
   "source": [
    "def add(*args):\n",
    "    return sum(args)\n",
    "add(10,20,30,40)"
   ]
  },
  {
   "cell_type": "code",
   "execution_count": 45,
   "metadata": {},
   "outputs": [
    {
     "name": "stdout",
     "output_type": "stream",
     "text": [
      "(123, 'niharikaa', 'Apssdc', '9876543210', 'Machine Learning', 'Python')\n"
     ]
    }
   ],
   "source": [
    "def userdetails(*args):\n",
    "    print(args)\n",
    "    \n",
    "userdetails(123,\"niharikaa\",\"Apssdc\",\"9876543210\",\"Machine Learning\",\"Python\")"
   ]
  },
  {
   "cell_type": "code",
   "execution_count": 46,
   "metadata": {},
   "outputs": [
    {
     "name": "stdout",
     "output_type": "stream",
     "text": [
      "{'name': 'Niharikaa', 'Empid': 1234, 'Org': 'Apssdc', 'Mobileno': 9876543210}\n"
     ]
    }
   ],
   "source": [
    "def user(**kwargs):\n",
    "    print(kwargs)\n",
    "user(name = \"Niharikaa\",Empid = 1234,Org = \"Apssdc\",Mobileno = 9876543210)\n",
    "\n",
    "\n",
    "    "
   ]
  },
  {
   "cell_type": "code",
   "execution_count": 53,
   "metadata": {},
   "outputs": [
    {
     "name": "stdout",
     "output_type": "stream",
     "text": [
      "Name : Lavanya \n",
      "College : SRM University \n",
      "Roll : 1234 \n",
      "Branch : ECE \n"
     ]
    }
   ],
   "source": [
    "def user1(**kwargs):\n",
    "    for key,val in kwargs.items():\n",
    "        print(\"{} : {} \".format(key,val))\n",
    "        \n",
    "user1(Name = \"Lavanya\",College = \"SRM University\",Roll = 1234,Branch = \"ECE\")\n"
   ]
  },
  {
   "cell_type": "code",
   "execution_count": 57,
   "metadata": {},
   "outputs": [
    {
     "name": "stdout",
     "output_type": "stream",
     "text": [
      "katak\n"
     ]
    },
    {
     "data": {
      "text/plain": [
       "'The string is paralindrome'"
      ]
     },
     "execution_count": 57,
     "metadata": {},
     "output_type": "execute_result"
    }
   ],
   "source": [
    "### create a functon for finding the given input is paralindrome:\n",
    "\n",
    "def paralindrome():\n",
    "    a = input()\n",
    "    if a[::-1].lower() == a.lower():\n",
    "        return \"The string is paralindrome\"\n",
    "    return \"not paralindrome\"\n",
    "\n",
    "paralindrome()\n"
   ]
  },
  {
   "cell_type": "code",
   "execution_count": 59,
   "metadata": {},
   "outputs": [],
   "source": [
    "## create a function for checking the given number is perfect number or not:\n",
    "\n",
    "## 6 --- 1 + 2 + 3  perfect number\n",
    "## 28 --- 1 + 2 + 4 + 7 + 14 perfect number\n",
    "\n",
    "def perfect_number(n):\n",
    "    c = 0\n",
    "    for i in range(1,n):\n",
    "        if n % i == 0:\n",
    "            c += i\n",
    "    if n == c:\n",
    "        print(\"Perfect number\")\n",
    "    else:\n",
    "        print(\"not perfect number\")\n",
    "            "
   ]
  },
  {
   "cell_type": "code",
   "execution_count": 64,
   "metadata": {},
   "outputs": [
    {
     "name": "stdout",
     "output_type": "stream",
     "text": [
      "Perfect number\n"
     ]
    }
   ],
   "source": [
    "\n",
    "perfect_number(28)"
   ]
  },
  {
   "cell_type": "code",
   "execution_count": 65,
   "metadata": {},
   "outputs": [],
   "source": [
    "### return --- gives you the inbuilt functionality of a function\n",
    "### print --- prints the output whatever user define."
   ]
  },
  {
   "cell_type": "code",
   "execution_count": 68,
   "metadata": {},
   "outputs": [
    {
     "name": "stdout",
     "output_type": "stream",
     "text": [
      "Enter the start value : 1\n",
      "Enter the end value : 10\n",
      "1\n",
      "2\n",
      "6\n",
      "24\n",
      "120\n",
      "720\n",
      "5040\n",
      "40320\n",
      "362880\n",
      "3628800\n"
     ]
    }
   ],
   "source": [
    "def fact(n):\n",
    "    a=1\n",
    "    for i in range(1,n+1):\n",
    "        a=a*i\n",
    "    return a\n",
    "\n",
    "def fact_range():\n",
    "    start=int(input(\"Enter the start value : \"))\n",
    "    end=int(input(\"Enter the end value : \"))\n",
    "    for i in range(start,end+1):\n",
    "        print(fact(i))\n",
    "fact_range()"
   ]
  },
  {
   "cell_type": "code",
   "execution_count": null,
   "metadata": {},
   "outputs": [],
   "source": []
  }
 ],
 "metadata": {
  "kernelspec": {
   "display_name": "Python 3",
   "language": "python",
   "name": "python3"
  },
  "language_info": {
   "codemirror_mode": {
    "name": "ipython",
    "version": 3
   },
   "file_extension": ".py",
   "mimetype": "text/x-python",
   "name": "python",
   "nbconvert_exporter": "python",
   "pygments_lexer": "ipython3",
   "version": "3.7.3"
  }
 },
 "nbformat": 4,
 "nbformat_minor": 2
}
