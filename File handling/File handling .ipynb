{
 "cells": [
  {
   "cell_type": "markdown",
   "metadata": {},
   "source": [
    "## File Handling:\n",
    "* File handling is performing opearations on the file using python programming.\n",
    "* open ---- read/write ---- close\n",
    "* **Built-In functions**:\n",
    "    * open() -- opening a file\n",
    "    * close() -- closing a file\n",
    "* w -- creates a new file and writes the data into the file\n",
    "    * write() -- writing into the file\n",
    "* r -- reading a file,which is already created\n",
    "    * read()  -- reading all the lines from the file\n",
    "    * readline() --- reading a single at a time\n",
    "    * readlines() -- reading line by line\n",
    "* a -- appends the data into already existed file\n",
    "    * write()\n"
   ]
  },
  {
   "cell_type": "code",
   "execution_count": 5,
   "metadata": {},
   "outputs": [],
   "source": [
    "## creating the file using wirte method:\n",
    "\n",
    "f = open(\"file1.txt\",'w')\n",
    "f.close()"
   ]
  },
  {
   "cell_type": "code",
   "execution_count": 8,
   "metadata": {},
   "outputs": [],
   "source": [
    "f = open('file1.txt','w')\n",
    "f2 = f.write('Good Morning')\n",
    "f.close()"
   ]
  },
  {
   "cell_type": "code",
   "execution_count": 9,
   "metadata": {},
   "outputs": [],
   "source": [
    "f = open('file1.txt','w')  ### write\n",
    "f2 = f.write('Srm Universtity')\n",
    "f.close()"
   ]
  },
  {
   "cell_type": "code",
   "execution_count": 10,
   "metadata": {},
   "outputs": [],
   "source": [
    "f = open('file1.txt','a')  ### append \n",
    "f2 = f.write(' students Good morning')\n",
    "f.close()"
   ]
  },
  {
   "cell_type": "code",
   "execution_count": 13,
   "metadata": {},
   "outputs": [
    {
     "name": "stdout",
     "output_type": "stream",
     "text": [
      "Srm Universtity students Good morning\n"
     ]
    }
   ],
   "source": [
    "f = open('file1.txt','r')\n",
    "print(f.read())\n",
    "f.close()"
   ]
  },
  {
   "cell_type": "code",
   "execution_count": 15,
   "metadata": {},
   "outputs": [
    {
     "data": {
      "text/plain": [
       "<_io.TextIOWrapper name='file1.txt' mode='r' encoding='cp1252'>"
      ]
     },
     "execution_count": 15,
     "metadata": {},
     "output_type": "execute_result"
    }
   ],
   "source": [
    "f = open('file1.txt')  ### by default consider as read mode\n",
    "f"
   ]
  },
  {
   "cell_type": "code",
   "execution_count": 16,
   "metadata": {},
   "outputs": [
    {
     "data": {
      "text/plain": [
       "<_io.TextIOWrapper name='file1.txt' mode='r' encoding='cp1252'>"
      ]
     },
     "execution_count": 16,
     "metadata": {},
     "output_type": "execute_result"
    }
   ],
   "source": [
    "open('file1.txt','r')  ### read mode"
   ]
  },
  {
   "cell_type": "code",
   "execution_count": 17,
   "metadata": {},
   "outputs": [
    {
     "data": {
      "text/plain": [
       "<_io.TextIOWrapper name='file1.txt' mode='w' encoding='cp1252'>"
      ]
     },
     "execution_count": 17,
     "metadata": {},
     "output_type": "execute_result"
    }
   ],
   "source": [
    "open('file1.txt','w') ### write mode"
   ]
  },
  {
   "cell_type": "code",
   "execution_count": 19,
   "metadata": {},
   "outputs": [
    {
     "data": {
      "text/plain": [
       "<_io.TextIOWrapper name='file1.txt' mode='a' encoding='cp1252'>"
      ]
     },
     "execution_count": 19,
     "metadata": {},
     "output_type": "execute_result"
    }
   ],
   "source": [
    "open('file1.txt','a') ### append mode"
   ]
  },
  {
   "cell_type": "code",
   "execution_count": 20,
   "metadata": {},
   "outputs": [
    {
     "name": "stdout",
     "output_type": "stream",
     "text": [
      "File handling is performing opearations on the file using python programming.\n",
      "open ---- read/write ---- close\n",
      "Built-In functions:\n",
      "open() -- opening a file\n",
      "close() -- closing a file\n",
      "w -- creates a new file and writes the data into the file\n",
      "write() -- writing into the file\n",
      "r -- reading a file,which is already created\n",
      "read() -- reading all the lines from the file\n",
      "readline() --- reading a single at a time\n",
      "readlines() -- reading line by line\n",
      "a -- appends the data into already existed file\n",
      "write()\n"
     ]
    }
   ],
   "source": [
    "### Reading the file:\n",
    "\n",
    "f = open('file1.txt','r')\n",
    "print(f.read())\n",
    "f.close()"
   ]
  },
  {
   "cell_type": "markdown",
   "metadata": {},
   "source": [
    "* two methods in reading the file:\n",
    "    * tell() --- gives us the cursor position in the file\n",
    "    * seek() --- brings cursor to the defined position"
   ]
  },
  {
   "cell_type": "code",
   "execution_count": 23,
   "metadata": {},
   "outputs": [
    {
     "data": {
      "text/plain": [
       "'File handling is performing opearations on the file using python programming.\\nopen ---- read/write ---- close\\nBuilt-In functions:\\nopen() -- opening a file\\nclose() -- closing a file\\nw -- creates a new file and writes the data into the file\\nwrite() -- writing into the file\\nr -- reading a file,which is already created\\nread() -- reading all the lines from the file\\nreadline() --- reading a single at a time\\nreadlines() -- reading line by line\\na -- appends the data into already existed file\\nwrite()'"
      ]
     },
     "execution_count": 23,
     "metadata": {},
     "output_type": "execute_result"
    }
   ],
   "source": [
    "### seek():\n",
    "f = open('file1.txt','r')\n",
    "f.seek(0)  ### getting data from the initial position\n",
    "f.read()\n"
   ]
  },
  {
   "cell_type": "code",
   "execution_count": 24,
   "metadata": {},
   "outputs": [
    {
     "data": {
      "text/plain": [
       "'ing is performing opearations on the file using python programming.\\nopen ---- read/write ---- close\\nBuilt-In functions:\\nopen() -- opening a file\\nclose() -- closing a file\\nw -- creates a new file and writes the data into the file\\nwrite() -- writing into the file\\nr -- reading a file,which is already created\\nread() -- reading all the lines from the file\\nreadline() --- reading a single at a time\\nreadlines() -- reading line by line\\na -- appends the data into already existed file\\nwrite()'"
      ]
     },
     "execution_count": 24,
     "metadata": {},
     "output_type": "execute_result"
    }
   ],
   "source": [
    "f.seek(10)  ## getting the data from te 10 th position\n",
    "f.read()"
   ]
  },
  {
   "cell_type": "code",
   "execution_count": 25,
   "metadata": {},
   "outputs": [
    {
     "data": {
      "text/plain": [
       "496"
      ]
     },
     "execution_count": 25,
     "metadata": {},
     "output_type": "execute_result"
    }
   ],
   "source": [
    "f.tell()"
   ]
  },
  {
   "cell_type": "code",
   "execution_count": 27,
   "metadata": {},
   "outputs": [
    {
     "data": {
      "text/plain": [
       "'File handling'"
      ]
     },
     "execution_count": 27,
     "metadata": {},
     "output_type": "execute_result"
    }
   ],
   "source": [
    "f.seek(0)  ### intial position from where the data to be read\n",
    "f.read(13)  ### upto mentioned position the data read"
   ]
  },
  {
   "cell_type": "code",
   "execution_count": 29,
   "metadata": {},
   "outputs": [
    {
     "data": {
      "text/plain": [
       "13"
      ]
     },
     "execution_count": 29,
     "metadata": {},
     "output_type": "execute_result"
    }
   ],
   "source": [
    "f.tell()  ### cursor is at 13th position."
   ]
  },
  {
   "cell_type": "code",
   "execution_count": 30,
   "metadata": {},
   "outputs": [],
   "source": [
    "f.close()"
   ]
  },
  {
   "cell_type": "code",
   "execution_count": 32,
   "metadata": {},
   "outputs": [
    {
     "ename": "ValueError",
     "evalue": "I/O operation on closed file.",
     "output_type": "error",
     "traceback": [
      "\u001b[1;31m---------------------------------------------------------------------------\u001b[0m",
      "\u001b[1;31mValueError\u001b[0m                                Traceback (most recent call last)",
      "\u001b[1;32m<ipython-input-32-a78e4ae35b8f>\u001b[0m in \u001b[0;36m<module>\u001b[1;34m\u001b[0m\n\u001b[1;32m----> 1\u001b[1;33m \u001b[0mf\u001b[0m\u001b[1;33m.\u001b[0m\u001b[0mtell\u001b[0m\u001b[1;33m(\u001b[0m\u001b[1;33m)\u001b[0m  \u001b[1;31m## file is closed,so no will be performed\u001b[0m\u001b[1;33m\u001b[0m\u001b[1;33m\u001b[0m\u001b[0m\n\u001b[0m",
      "\u001b[1;31mValueError\u001b[0m: I/O operation on closed file."
     ]
    }
   ],
   "source": [
    "f.tell()  ## file is closed,so no will be performed"
   ]
  },
  {
   "cell_type": "code",
   "execution_count": 34,
   "metadata": {},
   "outputs": [
    {
     "name": "stdout",
     "output_type": "stream",
     "text": [
      "File handling is performing opearations on the file using python programming.\n",
      "\n"
     ]
    }
   ],
   "source": [
    "f = open('file1.txt','r')\n",
    "print(f.readline())  ### single line accessing.\n"
   ]
  },
  {
   "cell_type": "code",
   "execution_count": 35,
   "metadata": {},
   "outputs": [
    {
     "data": {
      "text/plain": [
       "78"
      ]
     },
     "execution_count": 35,
     "metadata": {},
     "output_type": "execute_result"
    }
   ],
   "source": [
    "f.tell()"
   ]
  },
  {
   "cell_type": "code",
   "execution_count": 36,
   "metadata": {},
   "outputs": [
    {
     "name": "stdout",
     "output_type": "stream",
     "text": [
      "open ---- read/write ---- close\n",
      "\n"
     ]
    }
   ],
   "source": [
    "print(f.readline())\n"
   ]
  },
  {
   "cell_type": "code",
   "execution_count": 37,
   "metadata": {},
   "outputs": [
    {
     "data": {
      "text/plain": [
       "110"
      ]
     },
     "execution_count": 37,
     "metadata": {},
     "output_type": "execute_result"
    }
   ],
   "source": [
    "f.tell()"
   ]
  },
  {
   "cell_type": "code",
   "execution_count": 38,
   "metadata": {},
   "outputs": [
    {
     "name": "stdout",
     "output_type": "stream",
     "text": [
      "Built-In functions:\n",
      "\n"
     ]
    },
    {
     "data": {
      "text/plain": [
       "130"
      ]
     },
     "execution_count": 38,
     "metadata": {},
     "output_type": "execute_result"
    }
   ],
   "source": [
    "print(f.readline())\n",
    "f.tell()"
   ]
  },
  {
   "cell_type": "code",
   "execution_count": 39,
   "metadata": {},
   "outputs": [
    {
     "data": {
      "text/plain": [
       "['open() -- opening a file\\n',\n",
       " 'close() -- closing a file\\n',\n",
       " 'w -- creates a new file and writes the data into the file\\n',\n",
       " 'write() -- writing into the file\\n',\n",
       " 'r -- reading a file,which is already created\\n',\n",
       " 'read() -- reading all the lines from the file\\n',\n",
       " 'readline() --- reading a single at a time\\n',\n",
       " 'readlines() -- reading line by line\\n',\n",
       " 'a -- appends the data into already existed file\\n',\n",
       " 'write()']"
      ]
     },
     "execution_count": 39,
     "metadata": {},
     "output_type": "execute_result"
    }
   ],
   "source": [
    "f.readlines()"
   ]
  },
  {
   "cell_type": "code",
   "execution_count": 42,
   "metadata": {},
   "outputs": [
    {
     "name": "stdout",
     "output_type": "stream",
     "text": [
      "['File handling is performing opearations on the file using python programming.\\n', 'open ---- read/write ---- close\\n', 'Built-In functions:\\n', 'open() -- opening a file\\n', 'close() -- closing a file\\n', 'w -- creates a new file and writes the data into the file\\n', 'write() -- writing into the file\\n', 'r -- reading a file,which is already created\\n', 'read() -- reading all the lines from the file\\n', 'readline() --- reading a single at a time\\n', 'readlines() -- reading line by line\\n', 'a -- appends the data into already existed file\\n', 'write()']\n"
     ]
    }
   ],
   "source": [
    "f.seek(0)\n",
    "print(f.readlines())   ### for getting multiple lines from the file"
   ]
  },
  {
   "cell_type": "code",
   "execution_count": 43,
   "metadata": {},
   "outputs": [
    {
     "name": "stdout",
     "output_type": "stream",
     "text": [
      "File handling is performing opearations on the file using python programming.\n",
      "\n",
      "open ---- read/write ---- close\n",
      "\n",
      "Built-In functions:\n",
      "\n",
      "open() -- opening a file\n",
      "\n",
      "close() -- closing a file\n",
      "\n"
     ]
    }
   ],
   "source": [
    "## write a program for accessing first first 5 lines from the file:\n",
    "\n",
    "f = open(\"file1.txt\",'r')\n",
    "no_of_lines = 5\n",
    "for i in range(no_of_lines):\n",
    "    line=f.readline()\n",
    "    print(line)\n"
   ]
  },
  {
   "cell_type": "code",
   "execution_count": 44,
   "metadata": {},
   "outputs": [
    {
     "data": {
      "text/plain": [
       "181"
      ]
     },
     "execution_count": 44,
     "metadata": {},
     "output_type": "execute_result"
    }
   ],
   "source": [
    "f.tell()"
   ]
  },
  {
   "cell_type": "code",
   "execution_count": 45,
   "metadata": {},
   "outputs": [
    {
     "name": "stdout",
     "output_type": "stream",
     "text": [
      "File handling is performing opearations on the file using python programming.\n",
      "\n",
      "open ---- read/write ---- close\n",
      "\n",
      "Built-In functions:\n",
      "\n",
      "open() -- opening a file\n",
      "\n",
      "close() -- closing a file\n",
      "\n"
     ]
    }
   ],
   "source": [
    "f.seek(0)\n",
    "count = 0\n",
    "for i in range(5):\n",
    "    if count < 5:\n",
    "        print(f.readline())\n",
    "    else:\n",
    "        break\n",
    "    count += 1"
   ]
  },
  {
   "cell_type": "code",
   "execution_count": 46,
   "metadata": {},
   "outputs": [
    {
     "name": "stdout",
     "output_type": "stream",
     "text": [
      "File handling is performing opearations on the file using python programming.\n",
      "\n",
      "open ---- read/write ---- close\n",
      "\n",
      "Built-In functions:\n",
      "\n",
      "open() -- opening a file\n",
      "\n",
      "close() -- closing a file\n",
      "\n"
     ]
    }
   ],
   "source": [
    "f.seek(0)\n",
    "count = 0\n",
    "for i in f.readlines():\n",
    "    if count < 5:\n",
    "        print(i)\n",
    "    else:\n",
    "        break\n",
    "    count += 1"
   ]
  },
  {
   "cell_type": "markdown",
   "metadata": {},
   "source": [
    "Task - 1\n",
    "* write a program for getting the last five line from the file."
   ]
  },
  {
   "cell_type": "code",
   "execution_count": 48,
   "metadata": {},
   "outputs": [],
   "source": [
    "### writing a file:\n",
    "\n",
    "f = open('file1.txt','a')\n",
    "f.write(\"Currently my file is doing append operation\")\n",
    "f.close()\n"
   ]
  },
  {
   "cell_type": "code",
   "execution_count": 49,
   "metadata": {},
   "outputs": [
    {
     "data": {
      "text/plain": [
       "'File handling is performing opearations on the file using python programming.\\nopen ---- read/write ---- close\\nBuilt-In functions:\\nopen() -- opening a file\\nclose() -- closing a file\\nw -- creates a new file and writes the data into the file\\nwrite() -- writing into the file\\nr -- reading a file,which is already created\\nread() -- reading all the lines from the file\\nreadline() --- reading a single at a time\\nreadlines() -- reading line by line\\na -- appends the data into already existed file\\nwrite()Currently my file is doing append operation'"
      ]
     },
     "execution_count": 49,
     "metadata": {},
     "output_type": "execute_result"
    }
   ],
   "source": [
    "f = open('file1.txt')\n",
    "f.read()"
   ]
  },
  {
   "cell_type": "code",
   "execution_count": 50,
   "metadata": {},
   "outputs": [],
   "source": [
    "f = open('file1.txt','w')\n",
    "f.write(\"New content is added to my file by overwritting the old content\")\n",
    "f.close()\n"
   ]
  },
  {
   "cell_type": "code",
   "execution_count": 51,
   "metadata": {},
   "outputs": [
    {
     "data": {
      "text/plain": [
       "'New content is added to my file by overwritting the old content'"
      ]
     },
     "execution_count": 51,
     "metadata": {},
     "output_type": "execute_result"
    }
   ],
   "source": [
    "f = open('file1.txt')\n",
    "f.read()"
   ]
  },
  {
   "cell_type": "code",
   "execution_count": 53,
   "metadata": {},
   "outputs": [
    {
     "name": "stdout",
     "output_type": "stream",
     "text": [
      "first line. \n",
      "second line. \n",
      "\n"
     ]
    }
   ],
   "source": [
    "f1 = open('file2.txt','w')\n",
    "f1.write(\"first line. \\n\")\n",
    "f1.write(\"second line. \\n\")\n",
    "f1.close()\n",
    "\n",
    "f1 = open('file2.txt')\n",
    "print(f1.read())"
   ]
  },
  {
   "cell_type": "code",
   "execution_count": 61,
   "metadata": {},
   "outputs": [
    {
     "name": "stdout",
     "output_type": "stream",
     "text": [
      "N e w   c o n t e n t   i s   a d d e d   t o   m y   f i l e   b y   o v e r w r i t t i n g   t h e   o l d   c o n t e n t "
     ]
    }
   ],
   "source": [
    "## write a program for reading the text letter by letter:\n",
    "\n",
    "f = open('file1.txt', 'r')  \n",
    "while 1:      \n",
    "    # read by character\n",
    "    char = f.read(1)          \n",
    "    if not char: \n",
    "        break       \n",
    "    print(char,end = \" \") \n",
    "f.close()"
   ]
  },
  {
   "cell_type": "code",
   "execution_count": 73,
   "metadata": {},
   "outputs": [
    {
     "name": "stdout",
     "output_type": "stream",
     "text": [
      "N e w   c o n t e n t   i s   a d d e d   t o   m y   f i l e   b y   o v e r w r i t t i n g   t h e   o l d   c o n t e n t "
     ]
    }
   ],
   "source": [
    "f = open('file1.txt','r')\n",
    "for i in f.read():\n",
    "    print(i,end = \" \")"
   ]
  },
  {
   "cell_type": "code",
   "execution_count": 74,
   "metadata": {},
   "outputs": [
    {
     "data": {
      "text/plain": [
       "'New content is added to my file by overwritting the old content'"
      ]
     },
     "execution_count": 74,
     "metadata": {},
     "output_type": "execute_result"
    }
   ],
   "source": [
    "### using functions in the file handling:\n",
    "\n",
    "def readfile(path):\n",
    "    with open(path,'r') as f:\n",
    "        data = f.read()\n",
    "    return data\n",
    "readfile('file1.txt')"
   ]
  },
  {
   "cell_type": "markdown",
   "metadata": {},
   "source": [
    "task-2 :\n",
    "* Create a function for appending the data into the file."
   ]
  },
  {
   "cell_type": "code",
   "execution_count": 75,
   "metadata": {},
   "outputs": [
    {
     "data": {
      "text/plain": [
       "2"
      ]
     },
     "execution_count": 75,
     "metadata": {},
     "output_type": "execute_result"
    }
   ],
   "source": [
    "### creating a file with random data.\n",
    "\n",
    "from random import randint\n",
    "randint(1,10)"
   ]
  },
  {
   "cell_type": "code",
   "execution_count": 79,
   "metadata": {},
   "outputs": [],
   "source": [
    "f = open('rand.txt','w')\n",
    "n = randint(1,100)\n",
    "f.write(str(n))\n",
    "f.close()"
   ]
  },
  {
   "cell_type": "code",
   "execution_count": 80,
   "metadata": {},
   "outputs": [
    {
     "data": {
      "text/plain": [
       "'85'"
      ]
     },
     "execution_count": 80,
     "metadata": {},
     "output_type": "execute_result"
    }
   ],
   "source": [
    "f = open('rand.txt','r')\n",
    "f.read()"
   ]
  },
  {
   "cell_type": "code",
   "execution_count": 86,
   "metadata": {},
   "outputs": [
    {
     "name": "stdout",
     "output_type": "stream",
     "text": [
      "Niharikaa niharikaa@gmail.com\n",
      "\n",
      "Niharikaa niharikaa@gmail.com\n",
      "\n"
     ]
    }
   ],
   "source": [
    "### searching for a name in the file:\n",
    "\n",
    "import re\n",
    "\n",
    "def search_name(name):\n",
    "    with open('info.txt','r') as f:\n",
    "        for i in f.readlines():\n",
    "            if re.search(name,i):\n",
    "                print(i)\n",
    "search_name(\"Niharikaa\")\n",
    "search_name(\"niharikaa@gmail.com\")\n"
   ]
  },
  {
   "cell_type": "markdown",
   "metadata": {},
   "source": [
    "Task -3\n",
    "* create a program for updating a word in the file"
   ]
  },
  {
   "cell_type": "code",
   "execution_count": 94,
   "metadata": {},
   "outputs": [],
   "source": [
    "### deletion of the file:\n",
    "f = open('file1.txt')\n",
    "f.close()\n",
    "\n",
    "import os"
   ]
  },
  {
   "cell_type": "code",
   "execution_count": 96,
   "metadata": {},
   "outputs": [
    {
     "ename": "FileNotFoundError",
     "evalue": "[WinError 2] The system cannot find the file specified: 'info.txt'",
     "output_type": "error",
     "traceback": [
      "\u001b[1;31m---------------------------------------------------------------------------\u001b[0m",
      "\u001b[1;31mFileNotFoundError\u001b[0m                         Traceback (most recent call last)",
      "\u001b[1;32m<ipython-input-96-3a51bf9d8ddd>\u001b[0m in \u001b[0;36m<module>\u001b[1;34m\u001b[0m\n\u001b[1;32m----> 1\u001b[1;33m \u001b[0mos\u001b[0m\u001b[1;33m.\u001b[0m\u001b[0mremove\u001b[0m\u001b[1;33m(\u001b[0m\u001b[1;34m'info.txt'\u001b[0m\u001b[1;33m)\u001b[0m  \u001b[1;31m### removing a file\u001b[0m\u001b[1;33m\u001b[0m\u001b[1;33m\u001b[0m\u001b[0m\n\u001b[0m",
      "\u001b[1;31mFileNotFoundError\u001b[0m: [WinError 2] The system cannot find the file specified: 'info.txt'"
     ]
    }
   ],
   "source": [
    "os.remove('info.txt')  ### removing a file"
   ]
  },
  {
   "cell_type": "markdown",
   "metadata": {},
   "source": [
    "### Error and Exception Handling:\n",
    "* some error in python:\n",
    "    * Arthimetic error\n",
    "    * zerodivision error\n",
    "    * EOf error\n",
    "    * Index error\n",
    "    * key error\n",
    "    * Syntax Error\n",
    "    * Indentation error\n",
    "    * FileNotfound error\n",
    "* Three terms we use in exception handling\n",
    "    * try --- we will check\n",
    "    * except -- handle the exception\n",
    "    * Finally -- result of the try and except"
   ]
  },
  {
   "cell_type": "code",
   "execution_count": 110,
   "metadata": {},
   "outputs": [
    {
     "name": "stdout",
     "output_type": "stream",
     "text": [
      "100.0\n",
      "no exception occured\n",
      "The block of code executed\n"
     ]
    }
   ],
   "source": [
    "## Program to encounter zerodivision error:\n",
    "import sys\n",
    "try:\n",
    "    print(100/1)\n",
    "except:\n",
    "    print(sys.exc_info()[1],\"exception occured\")\n",
    "else:\n",
    "    print(\"no exception occured\")\n",
    "finally:\n",
    "    print(\"The block of code executed\")"
   ]
  },
  {
   "cell_type": "code",
   "execution_count": 106,
   "metadata": {},
   "outputs": [
    {
     "data": {
      "text/plain": [
       "(None, None, None)"
      ]
     },
     "execution_count": 106,
     "metadata": {},
     "output_type": "execute_result"
    }
   ],
   "source": [
    "sys.exc_info()"
   ]
  },
  {
   "cell_type": "code",
   "execution_count": 111,
   "metadata": {},
   "outputs": [
    {
     "ename": "NameError",
     "evalue": "name 'x' is not defined",
     "output_type": "error",
     "traceback": [
      "\u001b[1;31m---------------------------------------------------------------------------\u001b[0m",
      "\u001b[1;31mNameError\u001b[0m                                 Traceback (most recent call last)",
      "\u001b[1;32m<ipython-input-111-6fcf9dfbd479>\u001b[0m in \u001b[0;36m<module>\u001b[1;34m\u001b[0m\n\u001b[1;32m----> 1\u001b[1;33m \u001b[0mx\u001b[0m\u001b[1;33m\u001b[0m\u001b[1;33m\u001b[0m\u001b[0m\n\u001b[0m",
      "\u001b[1;31mNameError\u001b[0m: name 'x' is not defined"
     ]
    }
   ],
   "source": [
    "x"
   ]
  },
  {
   "cell_type": "code",
   "execution_count": 112,
   "metadata": {},
   "outputs": [
    {
     "name": "stdout",
     "output_type": "stream",
     "text": [
      "variable x is not defined\n"
     ]
    }
   ],
   "source": [
    "try:\n",
    "    print(x)\n",
    "except:\n",
    "    print(\"variable x is not defined\")"
   ]
  },
  {
   "cell_type": "code",
   "execution_count": 113,
   "metadata": {},
   "outputs": [
    {
     "ename": "FileNotFoundError",
     "evalue": "[WinError 2] The system cannot find the file specified: 'file.txt'",
     "output_type": "error",
     "traceback": [
      "\u001b[1;31m---------------------------------------------------------------------------\u001b[0m",
      "\u001b[1;31mFileNotFoundError\u001b[0m                         Traceback (most recent call last)",
      "\u001b[1;32m<ipython-input-113-47a32102f3a8>\u001b[0m in \u001b[0;36m<module>\u001b[1;34m\u001b[0m\n\u001b[1;32m----> 1\u001b[1;33m \u001b[0mos\u001b[0m\u001b[1;33m.\u001b[0m\u001b[0mremove\u001b[0m\u001b[1;33m(\u001b[0m\u001b[1;34m\"file.txt\"\u001b[0m\u001b[1;33m)\u001b[0m\u001b[1;33m\u001b[0m\u001b[1;33m\u001b[0m\u001b[0m\n\u001b[0m",
      "\u001b[1;31mFileNotFoundError\u001b[0m: [WinError 2] The system cannot find the file specified: 'file.txt'"
     ]
    }
   ],
   "source": [
    "os.remove(\"file.txt\")"
   ]
  },
  {
   "cell_type": "code",
   "execution_count": 116,
   "metadata": {},
   "outputs": [
    {
     "name": "stdout",
     "output_type": "stream",
     "text": [
      "Below exception error occured\n",
      "[WinError 2] The system cannot find the file specified: 'file.txt'\n",
      "\n",
      "Run this block of code always\n"
     ]
    }
   ],
   "source": [
    "try:\n",
    "    os.remove(\"file.txt\")\n",
    "except:\n",
    "    print(\"Below exception error occured\")\n",
    "    print(sys.exc_info()[1])\n",
    "else:\n",
    "    print(\"no exception occured\")\n",
    "finally:\n",
    "    print('\\nRun this block of code always')"
   ]
  },
  {
   "cell_type": "code",
   "execution_count": 117,
   "metadata": {},
   "outputs": [
    {
     "name": "stdout",
     "output_type": "stream",
     "text": [
      "(<class 'OverflowError'>, OverflowError('math range error'), <traceback object at 0x00000242FFB3DDC8>)\n"
     ]
    }
   ],
   "source": [
    "### built in exceptions in python:\n",
    "\n",
    "### overflow error:\n",
    "\n",
    "try:\n",
    "    import math\n",
    "    print(math.exp(1000))\n",
    "except OverflowError:\n",
    "    print(sys.exc_info())\n",
    "else:\n",
    "    print(\"execution,no error occured\")"
   ]
  },
  {
   "cell_type": "code",
   "execution_count": 119,
   "metadata": {},
   "outputs": [
    {
     "ename": "OverflowError",
     "evalue": "math range error",
     "output_type": "error",
     "traceback": [
      "\u001b[1;31m---------------------------------------------------------------------------\u001b[0m",
      "\u001b[1;31mOverflowError\u001b[0m                             Traceback (most recent call last)",
      "\u001b[1;32m<ipython-input-119-e0c11add5017>\u001b[0m in \u001b[0;36m<module>\u001b[1;34m\u001b[0m\n\u001b[1;32m----> 1\u001b[1;33m \u001b[0mmath\u001b[0m\u001b[1;33m.\u001b[0m\u001b[0mexp\u001b[0m\u001b[1;33m(\u001b[0m\u001b[1;36m1000\u001b[0m\u001b[1;33m)\u001b[0m\u001b[1;33m\u001b[0m\u001b[1;33m\u001b[0m\u001b[0m\n\u001b[0m",
      "\u001b[1;31mOverflowError\u001b[0m: math range error"
     ]
    }
   ],
   "source": [
    "math.exp(1000)"
   ]
  },
  {
   "cell_type": "code",
   "execution_count": 123,
   "metadata": {},
   "outputs": [
    {
     "name": "stdout",
     "output_type": "stream",
     "text": [
      "100\n",
      "1\n",
      "100.0\n"
     ]
    }
   ],
   "source": [
    "### zero divison error:\n",
    "try:\n",
    "    x = int(input())\n",
    "    y = int(input())\n",
    "    print(x/y)\n",
    "except ZeroDivisionError:\n",
    "    print(\"Zero Division Error Occured\")\n",
    "    \n",
    "    "
   ]
  },
  {
   "cell_type": "code",
   "execution_count": null,
   "metadata": {},
   "outputs": [],
   "source": []
  }
 ],
 "metadata": {
  "kernelspec": {
   "display_name": "Python 3",
   "language": "python",
   "name": "python3"
  },
  "language_info": {
   "codemirror_mode": {
    "name": "ipython",
    "version": 3
   },
   "file_extension": ".py",
   "mimetype": "text/x-python",
   "name": "python",
   "nbconvert_exporter": "python",
   "pygments_lexer": "ipython3",
   "version": "3.7.3"
  }
 },
 "nbformat": 4,
 "nbformat_minor": 2
}
