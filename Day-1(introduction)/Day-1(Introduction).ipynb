{
 "cells": [
  {
   "cell_type": "markdown",
   "metadata": {},
   "source": [
    "## Python:\n",
    "\n",
    "* Python is discovered in 1994 with version - 1 by Guido Van Russom.\n",
    "* Version -2 in 2000\n",
    "* Version - 3 in 2008\n",
    "* Version - 4 in 2019\n",
    "* Python is an interpreted language --- Execution will be done line by line.\n",
    "* High level language -- The code can be understandable by a human as well as a machine.\n",
    "* General purpose programming language\n",
    "\n",
    "\n",
    "#### Why only python?\n",
    "* Easy learn and easy to develope\n",
    "* Supports object oriented programming.\n",
    "* Platform Independent\n",
    "* More Inbuilt libraries.\n",
    "* Developer community and Open source.\n",
    "* Can be used to implement web applications,internet of things,Datascience,Machine learning,Artificial Intelligence.\n",
    "\n",
    "### Idles of Python:\n",
    "* Basic Python idle\n",
    "* Jupyter Notebook --- Anaconda Navigator\n",
    "* Visuial Studio Code\n",
    "* Sublimetext\n",
    "* Pycharm\n",
    "* Google collaboratory\n",
    "* notepad++\n",
    "* spyder\n",
    "* Atom\n",
    "\n",
    "#### Jupyter Notebook:\n",
    "* The programming what we use in jupyter is called as literature programming.\n",
    "* There are two types of cells:\n",
    "    * Code cell ---- we can code our program\n",
    "    * Markdown cell --- We can create the text content\n",
    "* converting code cell into markdown cell --- esc + m\n",
    "* converting markdown cell into code cell --- esc + y\n",
    "* Exceuting the cell without creating a new cell below --- enter + shift\n",
    "* Executing the cell with creating a new cell below --- alt + enter\n",
    "#### Headings:\n",
    "* For selecting the heading size --- #\n",
    "* Single hash is the highest title size\n",
    "* Double hash is the second highest\n",
    "* six hashes is the lowest size\n",
    "\n",
    "# First\n",
    "## second\n",
    "### Third\n",
    "#### Fourth\n",
    "##### Fifth\n",
    "###### Sixth\n",
    "\n",
    "* *Italic* --- use astrick at the start and at the end for creating the Text in Italic\n",
    "* **Bold** --- Use two astricks at the start and at the end for creating the text in Bold.\n",
    "* ***Italic and Bold*** --- use three astricks at the start and at the end for creating the text in italic and bold.\n",
    "* ~~Strikethrough~~ --- use ~ twice at the start and at the end for creating the text in strike through .\n",
    "\n",
    "* for creating the text in point wise ---- used single astrick with space.\n",
    "    * give tab space and use astrick with space creates the subpoint\n",
    "        * give tab space within the subpoint and use astrick with space creates subpoint within the subpoint.\n",
    "\n",
    "1.ordered lists\n",
    "    * used for numerical point represantation\n",
    "2.Unordered lists\n",
    "    * used without numerical points.\n",
    "**Inserting image**   :\n",
    "* < img src = \"imagename\">\n",
    "<img src = \"https://www.anaconda.com/imager/assetsdo/Products/8031/open-source-logos2x_680db6b6f11f9cc710dd7defae241cd3.png\" height = \"300\" width = 300>\n",
    "\n",
    "**Including code in the text :**\n",
    "* Using the code in the markdown text.use ~ thrice and mention programming name at the start and only ~ thrice at the end\n",
    "\n",
    "~~~ python\n",
    "print(\"using the code in the markdown text\")\n",
    "~~~\n",
    "\n",
    "~~~ c\n",
    "printf(\"C language\")\n",
    "~~~\n",
    "\n",
    "**Creating the table in the text:**\n",
    "\n",
    "* for creating the table use | symbol for making the column division and -- for row division.\n",
    "\n",
    "col1|col2|col3\n",
    "----|----|----\n",
    "a|b|c\n",
    "d|e|f"
   ]
  },
  {
   "cell_type": "markdown",
   "metadata": {},
   "source": [
    "\n"
   ]
  },
  {
   "cell_type": "code",
   "execution_count": 3,
   "metadata": {},
   "outputs": [
    {
     "name": "stdout",
     "output_type": "stream",
     "text": [
      "Good Morning\n"
     ]
    }
   ],
   "source": [
    "print(\"Good Morning\")"
   ]
  },
  {
   "cell_type": "code",
   "execution_count": 2,
   "metadata": {},
   "outputs": [
    {
     "data": {
      "text/plain": [
       "10"
      ]
     },
     "execution_count": 2,
     "metadata": {},
     "output_type": "execute_result"
    }
   ],
   "source": [
    "a = 10\n",
    "a"
   ]
  },
  {
   "cell_type": "code",
   "execution_count": 5,
   "metadata": {},
   "outputs": [],
   "source": [
    "b = 10"
   ]
  },
  {
   "cell_type": "code",
   "execution_count": null,
   "metadata": {},
   "outputs": [],
   "source": []
  },
  {
   "cell_type": "code",
   "execution_count": null,
   "metadata": {},
   "outputs": [],
   "source": []
  }
 ],
 "metadata": {
  "kernelspec": {
   "display_name": "Python 3",
   "language": "python",
   "name": "python3"
  },
  "language_info": {
   "codemirror_mode": {
    "name": "ipython",
    "version": 3
   },
   "file_extension": ".py",
   "mimetype": "text/x-python",
   "name": "python",
   "nbconvert_exporter": "python",
   "pygments_lexer": "ipython3",
   "version": "3.7.3"
  }
 },
 "nbformat": 4,
 "nbformat_minor": 2
}
