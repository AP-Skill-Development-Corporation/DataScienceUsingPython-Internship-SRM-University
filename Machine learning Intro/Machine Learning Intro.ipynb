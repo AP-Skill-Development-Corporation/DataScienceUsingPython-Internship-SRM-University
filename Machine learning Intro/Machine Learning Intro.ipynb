{
 "cells": [
  {
   "cell_type": "markdown",
   "metadata": {},
   "source": [
    "### Data Analysis :\n",
    "* To Analyse the data and to feed data with the right format we use data analysis.\n",
    "* For getting the better results when applying algorithms to the data."
   ]
  },
  {
   "cell_type": "markdown",
   "metadata": {},
   "source": [
    "## Machine Learning:\n",
    "\n",
    "* Python programming\n",
    "* Data Analysis\n",
    "* Machine Learning."
   ]
  },
  {
   "cell_type": "markdown",
   "metadata": {},
   "source": [
    "**Data Science:**\n",
    "* DATA : Raw Input with some impurities.\n",
    "* SCIENCE : Study Of something\n",
    "* The study of the huge data,by doing the data cleaning,prepearing and analysis usig machine learning models."
   ]
  },
  {
   "cell_type": "markdown",
   "metadata": {},
   "source": [
    "### Machine Learning:\n",
    "\n",
    "* Making our machine to learn from the past experiences and predicting the future output.\n",
    "* Steps in Machine learning:\n",
    "    * Data --- past experiences\n",
    "    * Analysing the data -- cleaning and observing the data\n",
    "    * Selecting the model -- ml algorithms\n",
    "    * Training and testing the model\n",
    "    * Evaluating the results of model\n",
    "    * Deploying the model\n",
    "    \n",
    "**Classification of Machine learning algorithms**:\n",
    "* Supervised --- We will provide input as well as output and supervision will be there.\n",
    "    * Regression -- It derives the realtion between the input and output.\n",
    "        * Linear Regression\n",
    "        * Polynomial Regression\n",
    "        * Ridge,Lasso And Elastic Regressions.\n",
    "    * Classification  --- categorization of data will be done\n",
    "        * Logistic regression\n",
    "        * Decision tree\n",
    "        * Random Forest \n",
    "        * K - Nearest Neighbour\n",
    "        * Support Vector Machine\n",
    "        * Boosting and Bagging classifiers \n",
    "* Unsupervised --- We will provide only the input and there will not be any supervision.\n",
    "    * Clustering -- grouping\n",
    "        * K-means cluster\n",
    "    * Associative\n",
    "* Reinforcement -- we wll not feed any output and input.\n",
    "\n",
    "**For finding the Performance of the model**:\n",
    "* Accuracy score\n",
    "* Precision\n",
    "* recall\n",
    "* confussion matrix\n",
    "* classification score"
   ]
  },
  {
   "cell_type": "code",
   "execution_count": null,
   "metadata": {},
   "outputs": [],
   "source": []
  }
 ],
 "metadata": {
  "kernelspec": {
   "display_name": "Python 3",
   "language": "python",
   "name": "python3"
  },
  "language_info": {
   "codemirror_mode": {
    "name": "ipython",
    "version": 3
   },
   "file_extension": ".py",
   "mimetype": "text/x-python",
   "name": "python",
   "nbconvert_exporter": "python",
   "pygments_lexer": "ipython3",
   "version": "3.7.3"
  }
 },
 "nbformat": 4,
 "nbformat_minor": 2
}
