{
 "cells": [
  {
   "cell_type": "markdown",
   "metadata": {},
   "source": [
    "## Topics\n",
    "- Regular Expressions"
   ]
  },
  {
   "cell_type": "markdown",
   "metadata": {},
   "source": [
    "### Regular Expressions\n",
    "- It in a programm is used to for describing a search pattern\n",
    "- **syntax:* import re \n",
    "\n",
    "#### Methods \n",
    "- re.findall()\n",
    "    - re.findall(pattern, data)\n",
    "- re.search()\n",
    "- re.match()\n",
    "- re.sub()"
   ]
  },
  {
   "cell_type": "code",
   "execution_count": 1,
   "metadata": {},
   "outputs": [],
   "source": [
    "import re"
   ]
  },
  {
   "cell_type": "code",
   "execution_count": 2,
   "metadata": {},
   "outputs": [],
   "source": [
    "# [ ] : Can insert numbers, char, or alphanumeric\n",
    "    ## [a-z], [A_Z], [0-9], [0-9a-z]\n",
    "    \n",
    "    \n",
    "# \\   : Special Sequence \n",
    "    ## \\d : Any digit\n",
    "    ## \\D : non-digits\n",
    "    ## \\s : Whitespace\n",
    "    ## \\S : Removes space\n",
    "    ## \\w : alphanumeric\n",
    "    ## \\W : special characters (@#$!...)"
   ]
  },
  {
   "cell_type": "code",
   "execution_count": 3,
   "metadata": {},
   "outputs": [
    {
     "data": {
      "text/plain": [
       "'India on Monday reported 70421 new Covid-19 infections over the past 24 hours, \\n            the lowest since April 1, data from the health ministry showed. 30 mins ago'"
      ]
     },
     "execution_count": 3,
     "metadata": {},
     "output_type": "execute_result"
    }
   ],
   "source": [
    "string1 = '''India on Monday reported 70421 new Covid-19 infections over the past 24 hours, \n",
    "            the lowest since April 1, data from the health ministry showed. 30 mins ago'''\n",
    "string1"
   ]
  },
  {
   "cell_type": "code",
   "execution_count": 4,
   "metadata": {},
   "outputs": [
    {
     "name": "stdout",
     "output_type": "stream",
     "text": [
      "['d', 'i', 'a', 'd', 'a', 'e', 'e', 'd', 'e', 'i', 'd', 'i', 'f', 'e', 'c', 'i', 'e', 'h', 'e', 'a', 'h', 'h', 'e', 'e', 'i', 'c', 'e', 'i', 'd', 'a', 'a', 'f', 'h', 'e', 'h', 'e', 'a', 'h', 'i', 'i', 'h', 'e', 'd', 'i', 'a', 'g']\n"
     ]
    }
   ],
   "source": [
    "# Write a pattern to find the small letters between a and i.\n",
    "s1 = re.findall('[a-i]',string1)\n",
    "print(s1)"
   ]
  },
  {
   "cell_type": "code",
   "execution_count": 6,
   "metadata": {},
   "outputs": [
    {
     "name": "stdout",
     "output_type": "stream",
     "text": [
      "['7', '0', '4', '2', '1', '1', '9', '2', '4', '1', '3', '0']\n",
      "['7', '0', '4', '2', '1', '1', '9', '2', '4', '1', '3', '0']\n"
     ]
    }
   ],
   "source": [
    "print(re.findall('[0-9]',string1))\n",
    "print(re.findall('\\d',string1))"
   ]
  },
  {
   "cell_type": "code",
   "execution_count": 11,
   "metadata": {},
   "outputs": [
    {
     "name": "stdout",
     "output_type": "stream",
     "text": [
      "['D', 'a', 't', 'a', 'S', 'c', 'i', 'e', 'n', 'c', 'e', 'I', 'n', 't', 'e', 'r', 'n', 's', 'h', 'i', 'p', 'S', 'R', 'M', 'U', 'n', 'i', 'v', 'e', 'r', 's', 'i', 't', 'y']\n",
      "[' ', ' ', ' ', '@', ' ', ' ', ' ', '!', '!', '!', '!']\n"
     ]
    }
   ],
   "source": [
    "string2 = \"Data Science Internship @ SRM University !!!!\"\n",
    "print(re.findall('\\w',string2))\n",
    "print(re.findall('\\W',string2))"
   ]
  },
  {
   "cell_type": "code",
   "execution_count": 12,
   "metadata": {},
   "outputs": [
    {
     "data": {
      "text/plain": [
       "'India on Monday reported 70421 new Covid-19 infections over the past 24 hours, \\n            the lowest since April 1, data from the health ministry showed. 30 mins ago'"
      ]
     },
     "execution_count": 12,
     "metadata": {},
     "output_type": "execute_result"
    }
   ],
   "source": [
    "string1"
   ]
  },
  {
   "cell_type": "code",
   "execution_count": 13,
   "metadata": {},
   "outputs": [
    {
     "name": "stdout",
     "output_type": "stream",
     "text": [
      "['i', 'C', 'i', '9', 'i', 'i', 'i', 'i', 'i', 'i', '3', 'i']\n"
     ]
    }
   ],
   "source": [
    "# Find 39Ci in string1\n",
    "print(re.findall('[39Ci]',string1))"
   ]
  },
  {
   "cell_type": "code",
   "execution_count": 14,
   "metadata": {},
   "outputs": [],
   "source": [
    "# ^(caret) : Starts with\n",
    "# $        : Ends with"
   ]
  },
  {
   "cell_type": "code",
   "execution_count": 17,
   "metadata": {},
   "outputs": [
    {
     "data": {
      "text/plain": [
       "<re.Match object; span=(0, 3), match='Mac'>"
      ]
     },
     "execution_count": 17,
     "metadata": {},
     "output_type": "execute_result"
    }
   ],
   "source": [
    "string3 = 'Machine Learning'\n",
    "# Check string3 is starts with \"Mac\"\n",
    "re.search('^Mac',string3)"
   ]
  },
  {
   "cell_type": "code",
   "execution_count": 18,
   "metadata": {},
   "outputs": [],
   "source": [
    "re.search('^Mnc',string3)"
   ]
  },
  {
   "cell_type": "code",
   "execution_count": 19,
   "metadata": {},
   "outputs": [
    {
     "name": "stdout",
     "output_type": "stream",
     "text": [
      "Yes\n"
     ]
    }
   ],
   "source": [
    "if re.search('^Mac',string3):\n",
    "    print('Yes')\n",
    "else:\n",
    "    print('No')"
   ]
  },
  {
   "cell_type": "code",
   "execution_count": 20,
   "metadata": {},
   "outputs": [
    {
     "data": {
      "text/plain": [
       "<re.Match object; span=(15, 16), match='g'>"
      ]
     },
     "execution_count": 20,
     "metadata": {},
     "output_type": "execute_result"
    }
   ],
   "source": [
    "re.search('g$',string3) # Not $value"
   ]
  },
  {
   "cell_type": "code",
   "execution_count": 25,
   "metadata": {},
   "outputs": [],
   "source": [
    "list1 = ['AP19110010016', 'AP19110010521','AP19110010504','TS19110010090','TS19110010504']"
   ]
  },
  {
   "cell_type": "markdown",
   "metadata": {},
   "source": [
    "#### Write a pattern, to find and display all the roll numbers which is starts with \"AP\""
   ]
  },
  {
   "cell_type": "code",
   "execution_count": 26,
   "metadata": {},
   "outputs": [
    {
     "name": "stdout",
     "output_type": "stream",
     "text": [
      "AP19110010016\n",
      "AP19110010521\n",
      "AP19110010504\n"
     ]
    }
   ],
   "source": [
    "for i in list1:\n",
    "    if re.search('^AP',i):\n",
    "        print(i)"
   ]
  },
  {
   "cell_type": "code",
   "execution_count": 27,
   "metadata": {},
   "outputs": [],
   "source": [
    "## . : Unknown Char"
   ]
  },
  {
   "cell_type": "code",
   "execution_count": 28,
   "metadata": {},
   "outputs": [
    {
     "data": {
      "text/plain": [
       "['SRMU']"
      ]
     },
     "execution_count": 28,
     "metadata": {},
     "output_type": "execute_result"
    }
   ],
   "source": [
    "string4 = 'SRMUniversity'\n",
    "re.findall('S...',string4)"
   ]
  },
  {
   "cell_type": "code",
   "execution_count": 36,
   "metadata": {},
   "outputs": [
    {
     "name": "stdout",
     "output_type": "stream",
     "text": [
      "SundarYadav\n",
      "Sai\n"
     ]
    }
   ],
   "source": [
    "names = ['Manish','SundarYadav','Sai']\n",
    "for stu in names:\n",
    "    if re.findall('S..', stu):\n",
    "        print(stu)"
   ]
  },
  {
   "cell_type": "code",
   "execution_count": 37,
   "metadata": {},
   "outputs": [],
   "source": [
    "## { } : Exactly specific no of occurance"
   ]
  },
  {
   "cell_type": "code",
   "execution_count": 38,
   "metadata": {},
   "outputs": [
    {
     "data": {
      "text/plain": [
       "['5432']"
      ]
     },
     "execution_count": 38,
     "metadata": {},
     "output_type": "execute_result"
    }
   ],
   "source": [
    "re.findall('[0-9]{4}','5432109')"
   ]
  },
  {
   "cell_type": "markdown",
   "metadata": {},
   "source": [
    "#### Task 1: Write a pattern to display 4 digit numbers from list1"
   ]
  },
  {
   "cell_type": "code",
   "execution_count": 39,
   "metadata": {},
   "outputs": [],
   "source": [
    "list1 = [5841, 987654321, 453267, 1234, 675, 8797]"
   ]
  },
  {
   "cell_type": "markdown",
   "metadata": {},
   "source": [
    "#### Task 2: Validate a phone number using patterns. Try to do this task using below pattern or your own pattern\n",
    "- '[6-9]{1}[0-9]{9}$'"
   ]
  },
  {
   "cell_type": "code",
   "execution_count": 40,
   "metadata": {},
   "outputs": [],
   "source": [
    "# Validate a phone number using patterns\n",
    "ph_list = [9876543210, 8123456789, 7890123456, 789654, 1234567890]"
   ]
  },
  {
   "cell_type": "markdown",
   "metadata": {},
   "source": [
    "- re.sub('value','replaced_string', data)"
   ]
  },
  {
   "cell_type": "code",
   "execution_count": 42,
   "metadata": {},
   "outputs": [
    {
     "data": {
      "text/plain": [
       "'n**g**mounik*'"
      ]
     },
     "execution_count": 42,
     "metadata": {},
     "output_type": "execute_result"
    }
   ],
   "source": [
    "re.sub('a','*','naagaamounika')"
   ]
  },
  {
   "cell_type": "code",
   "execution_count": null,
   "metadata": {},
   "outputs": [],
   "source": []
  }
 ],
 "metadata": {
  "kernelspec": {
   "display_name": "Python 3",
   "language": "python",
   "name": "python3"
  },
  "language_info": {
   "codemirror_mode": {
    "name": "ipython",
    "version": 3
   },
   "file_extension": ".py",
   "mimetype": "text/x-python",
   "name": "python",
   "nbconvert_exporter": "python",
   "pygments_lexer": "ipython3",
   "version": "3.7.3"
  }
 },
 "nbformat": 4,
 "nbformat_minor": 2
}
