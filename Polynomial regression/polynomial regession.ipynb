{
 "cells": [
  {
   "cell_type": "markdown",
   "metadata": {},
   "source": [
    "### Polynomial Regression:"
   ]
  },
  {
   "cell_type": "markdown",
   "metadata": {},
   "source": [
    "* Polynomial regression is one of the linear regression model.\n",
    "* If the change between the dependent and independent variables is non-uniform,then we go for polynomial regression\n",
    "**Linear Equation**:\n",
    "\n",
    "    y = mx + c\n",
    "    * y is the target variable\n",
    "    * c is the bias\n",
    "    * x is the predictor\n",
    "    * m is the weight of the regression equation\n",
    "    \n",
    "**Polynomial Equation**:\n",
    "\n",
    "    y = c + c1x + c2x^2 +c3x^3+.....+cnx^n\n",
    "    \n",
    "    * y is the target variable\n",
    "    * x is the predictor\n",
    "    * c1,c2,cn are the weight of the regression equation\n",
    "    * c is the bias\n",
    "\n",
    "    "
   ]
  },
  {
   "cell_type": "code",
   "execution_count": 1,
   "metadata": {},
   "outputs": [],
   "source": [
    "import numpy as np\n",
    "import pandas as pd\n",
    "import matplotlib.pyplot as plt\n",
    "import seaborn as sns\n"
   ]
  },
  {
   "cell_type": "markdown",
   "metadata": {},
   "source": [
    "**Creating the data for applying linear and Polynomial Regressions:**"
   ]
  },
  {
   "cell_type": "code",
   "execution_count": 2,
   "metadata": {},
   "outputs": [],
   "source": [
    "from sklearn.metrics import mean_squared_error"
   ]
  },
  {
   "cell_type": "code",
   "execution_count": 3,
   "metadata": {},
   "outputs": [
    {
     "data": {
      "text/plain": [
       "(array([ -6.75213318,   4.32139222,  -2.51676936,   5.76079769,\n",
       "        -16.86924176,   7.68628   ,  -3.96644621,  -7.87682882,\n",
       "         -5.97365086,  -1.40932721,  -9.1970036 ,   1.36232204,\n",
       "          4.64403663,  20.774235  ,   4.95275688,  14.84185394,\n",
       "          3.10467246,  12.68437743, -12.57022989,   6.63784763,\n",
       "         10.33953034,   9.32268638, -15.89058336,  -9.9785346 ,\n",
       "        -13.02634003,  19.71597113,  -7.09269576,  -1.22092948,\n",
       "        -11.91522641,  -7.19595075,   5.75320237,   3.49434127,\n",
       "         11.70260434,  11.19811779,   0.49347569,   1.18082481,\n",
       "         -1.47191601, -10.17025691,  14.85969178,  -3.72700871,\n",
       "         -8.20391111, -11.39495113,  11.86514771,   6.45799044,\n",
       "          2.10406734,  10.75068373,  -7.31231851,  14.44375937,\n",
       "          5.27622818,  -7.08489451,   9.25322064,   4.40535467,\n",
       "        -18.85836092, -12.9620531 ,   5.71811645, -25.18208201,\n",
       "          9.17352268,  -2.72530571, -22.14486845,   5.5099822 ,\n",
       "          5.40799277, -11.1948365 ,   6.40581078,  -5.98954069,\n",
       "         13.59016965,  -6.35237857,   5.53624366,   0.75726373,\n",
       "         11.44438827, -12.9017578 ]),\n",
       " array([ -466.31378613,  -201.890083  ,  -229.47114192,  -532.698972  ,\n",
       "        -3161.22643964,  -563.52071153,  -187.3553007 ,  -864.09924845,\n",
       "         -363.3735729 ,  -177.84014322,  -924.53422942,  -265.83311326,\n",
       "         -198.45064336, -4255.50881984,  -402.42287396, -2178.64669008,\n",
       "         -121.82104071, -1673.09720705, -1611.22252569,  -477.2834595 ,\n",
       "        -1201.73222704,  -888.49683895, -2673.3825785 , -1088.10684449,\n",
       "        -1865.90811711, -3897.97152842,  -590.92255694,   -28.33270362,\n",
       "        -1491.74018053,  -552.02226104,  -354.76830416,  -254.06275796,\n",
       "        -1485.07633022, -1399.60446335,  -101.1616775 ,  -348.61981873,\n",
       "           62.4269193 , -1111.22316269, -2320.40282101,  -167.80736321,\n",
       "         -883.5313045 , -1318.45852004, -1483.52305718,  -478.15805195,\n",
       "         -120.37609578, -1291.8156831 ,  -734.00067162, -2033.73944124,\n",
       "         -426.82191394,  -569.14042716,  -909.51654845,  -341.87775591,\n",
       "        -3811.36436279, -1762.71144809,  -397.5783426 , -6448.37971242,\n",
       "        -1043.3912906 ,  -201.46491088, -5079.12299538,  -307.40627744,\n",
       "         -577.8493643 , -1301.30626365,  -468.38217018,  -474.48229664,\n",
       "        -1910.70621533,  -742.60983434,  -415.35359085,  -222.99597165,\n",
       "        -1295.09708562, -1712.80930967]))"
      ]
     },
     "execution_count": 3,
     "metadata": {},
     "output_type": "execute_result"
    }
   ],
   "source": [
    "x = 10 * np.random.normal(0,1,70)\n",
    "y = 10 * (-x**2) + np.random.normal(-100,100,70)\n",
    "x,y\n"
   ]
  },
  {
   "cell_type": "code",
   "execution_count": 4,
   "metadata": {},
   "outputs": [
    {
     "data": {
      "image/png": "[encoded data removed]",
      "text/plain": [
       "<Figure size 720x360 with 1 Axes>"
      ]
     },
     "metadata": {
      "needs_background": "light"
     },
     "output_type": "display_data"
    }
   ],
   "source": [
    "### Plotting the data:\n",
    "\n",
    "\n",
    "plt.figure(figsize = (10,5))\n",
    "plt.scatter(x,y,s = 15)\n",
    "plt.xlabel('Predictor',fontsize = 16)\n",
    "plt.ylabel('Target',fontsize = 16)\n",
    "plt.show()"
   ]
  },
  {
   "cell_type": "markdown",
   "metadata": {},
   "source": [
    "**Linear Regression:**"
   ]
  },
  {
   "cell_type": "code",
   "execution_count": 5,
   "metadata": {},
   "outputs": [
    {
     "data": {
      "text/plain": [
       "LinearRegression(copy_X=True, fit_intercept=True, n_jobs=None,\n",
       "         normalize=False)"
      ]
     },
     "execution_count": 5,
     "metadata": {},
     "output_type": "execute_result"
    }
   ],
   "source": [
    "from sklearn.linear_model import LinearRegression\n",
    "lm = LinearRegression()\n",
    "lm.fit(x.reshape(-1,1),y.reshape(-1,1))"
   ]
  },
  {
   "cell_type": "code",
   "execution_count": 6,
   "metadata": {},
   "outputs": [
    {
     "data": {
      "text/plain": [
       "array([[-1315.74258145],\n",
       "       [-1018.80471154],\n",
       "       [-1202.1708086 ],\n",
       "       [ -980.20688677],\n",
       "       [-1587.0340233 ],\n",
       "       [ -928.57485478],\n",
       "       [-1241.04406182],\n",
       "       [-1345.90142567],\n",
       "       [-1294.86748765],\n",
       "       [-1172.47461882],\n",
       "       [-1381.30206575],\n",
       "       [-1098.15252215],\n",
       "       [-1010.15296425],\n",
       "       [ -577.6198213 ],\n",
       "       [-1001.87459492],\n",
       "       [ -736.69730843],\n",
       "       [-1051.43119334],\n",
       "       [ -794.55029175],\n",
       "       [-1471.7555207 ],\n",
       "       [ -956.68869077],\n",
       "       [ -857.42763891],\n",
       "       [ -884.69442779],\n",
       "       [-1560.79118467],\n",
       "       [-1402.25891036],\n",
       "       [-1483.98616701],\n",
       "       [ -605.99728981],\n",
       "       [-1324.87480669],\n",
       "       [-1167.42271174],\n",
       "       [-1454.19152627],\n",
       "       [-1327.64360125],\n",
       "       [ -980.41055605],\n",
       "       [-1040.98217877],\n",
       "       [ -820.87665131],\n",
       "       [ -834.40451658],\n",
       "       [-1121.45073801],\n",
       "       [-1103.01939147],\n",
       "       [-1174.15294464],\n",
       "       [-1407.39996646],\n",
       "       [ -736.21898484],\n",
       "       [-1234.62351748],\n",
       "       [-1354.67217526],\n",
       "       [-1440.24028407],\n",
       "       [ -816.51803184],\n",
       "       [ -961.51158209],\n",
       "       [-1078.26253574],\n",
       "       [ -846.40251284],\n",
       "       [-1330.76401619],\n",
       "       [ -747.3722606 ],\n",
       "       [ -993.20067442],\n",
       "       [-1324.66561524],\n",
       "       [ -886.55715957],\n",
       "       [-1016.55324864],\n",
       "       [-1640.37248462],\n",
       "       [-1482.2623056 ],\n",
       "       [ -981.351389  ],\n",
       "       [-1809.9438002 ],\n",
       "       [ -888.69426966],\n",
       "       [-1207.76273523],\n",
       "       [-1728.50056593],\n",
       "       [ -986.93253316],\n",
       "       [ -989.66739158],\n",
       "       [-1434.87418708],\n",
       "       [ -962.91078568],\n",
       "       [-1295.29357521],\n",
       "       [ -770.26136808],\n",
       "       [-1305.02311515],\n",
       "       [ -986.22832898],\n",
       "       [-1114.3772312 ],\n",
       "       [ -827.800745  ],\n",
       "       [-1480.64548003]])"
      ]
     },
     "execution_count": 6,
     "metadata": {},
     "output_type": "execute_result"
    }
   ],
   "source": [
    "y_pred = lm.predict(x.reshape(-1,1))\n",
    "y_pred"
   ]
  },
  {
   "cell_type": "code",
   "execution_count": 7,
   "metadata": {},
   "outputs": [
    {
     "data": {
      "image/png": "[encoded data removed]",
      "text/plain": [
       "<Figure size 720x360 with 1 Axes>"
      ]
     },
     "metadata": {
      "needs_background": "light"
     },
     "output_type": "display_data"
    }
   ],
   "source": [
    "### plotting the linear regression model:\n",
    "\n",
    "plt.figure(figsize = (10,5))\n",
    "plt.scatter(x,y,s = 15)\n",
    "plt.plot(x,y_pred,color = 'r')\n",
    "plt.xlabel(\"Predictor\",fontsize = 16)\n",
    "plt.ylabel(\"Target\",fontsize = 16)\n",
    "plt.show()"
   ]
  },
  {
   "cell_type": "code",
   "execution_count": 8,
   "metadata": {},
   "outputs": [
    {
     "name": "stdout",
     "output_type": "stream",
     "text": [
      "RMSE for Linear Regression =  1196.1712651991286\n"
     ]
    }
   ],
   "source": [
    "print(\"RMSE for Linear Regression = \",np.sqrt(mean_squared_error(y,y_pred)))"
   ]
  },
  {
   "cell_type": "markdown",
   "metadata": {},
   "source": [
    "**Polynomial regression:**\n",
    "\n",
    "* There are two steps for performing the polynomial regression.\n",
    "    * Adding degree to the data --- transforming to polynomial values\n",
    "    * Applying Linear regression model."
   ]
  },
  {
   "cell_type": "code",
   "execution_count": 9,
   "metadata": {},
   "outputs": [],
   "source": [
    "from sklearn.pipeline import Pipeline\n",
    "from sklearn.preprocessing import PolynomialFeatures\n",
    "Input = [('polynomial',PolynomialFeatures(degree = 2)),('modal',LinearRegression())]\n"
   ]
  },
  {
   "cell_type": "code",
   "execution_count": 10,
   "metadata": {},
   "outputs": [
    {
     "data": {
      "text/plain": [
       "Pipeline(memory=None,\n",
       "     steps=[('polynomial', PolynomialFeatures(degree=2, include_bias=True, interaction_only=False)), ('modal', LinearRegression(copy_X=True, fit_intercept=True, n_jobs=None,\n",
       "         normalize=False))])"
      ]
     },
     "execution_count": 10,
     "metadata": {},
     "output_type": "execute_result"
    }
   ],
   "source": [
    "pipe = Pipeline(Input)\n",
    "pipe.fit(x.reshape(-1,1),y.reshape(-1,1))"
   ]
  },
  {
   "cell_type": "code",
   "execution_count": 11,
   "metadata": {
    "collapsed": true
   },
   "outputs": [
    {
     "data": {
      "text/plain": [
       "array([[ -577.15727206],\n",
       "       [ -278.51456654],\n",
       "       [ -175.34568991],\n",
       "       [ -418.54248032],\n",
       "       [-2978.83473956],\n",
       "       [ -670.19227286],\n",
       "       [ -272.7774797 ],\n",
       "       [ -743.71897352],\n",
       "       [ -476.5798913 ],\n",
       "       [ -129.03506466],\n",
       "       [ -971.28010745],\n",
       "       [ -119.89121797],\n",
       "       [ -306.32411495],\n",
       "       [-4331.87200391],\n",
       "       [ -334.86897097],\n",
       "       [-2250.62564067],\n",
       "       [ -192.24062869],\n",
       "       [-1667.03356236],\n",
       "       [-1709.93735279],\n",
       "       [ -524.037292  ],\n",
       "       [-1137.58964065],\n",
       "       [ -941.93922529],\n",
       "       [-2657.70690015],\n",
       "       [-1122.30431758],\n",
       "       [-1827.15812092],\n",
       "       [-3909.38433418],\n",
       "       [ -624.94114191],\n",
       "       [ -123.58090838],\n",
       "       [-1548.8275326 ],\n",
       "       [ -639.88375479],\n",
       "       [ -417.69560749],\n",
       "       [ -216.6707377 ],\n",
       "       [-1432.07029612],\n",
       "       [-1318.77917856],\n",
       "       [ -106.34122884],\n",
       "       [ -115.82193821],\n",
       "       [ -131.00301083],\n",
       "       [-1161.20586575],\n",
       "       [-2255.83603561],\n",
       "       [ -253.80762599],\n",
       "       [ -796.87336807],\n",
       "       [-1426.92827888],\n",
       "       [-1469.64880369],\n",
       "       [ -501.15825631],\n",
       "       [ -143.321636  ],\n",
       "       [-1222.52949165],\n",
       "       [ -656.97776618],\n",
       "       [-2135.98720783],\n",
       "       [ -366.80833873],\n",
       "       [ -623.82078176],\n",
       "       [ -929.32267462],\n",
       "       [ -285.55250913],\n",
       "       [-3690.14394512],\n",
       "       [-1810.38619276],\n",
       "       [ -413.79842036],\n",
       "       [-6473.49753619],\n",
       "       [ -914.96576588],\n",
       "       [ -186.7912172 ],\n",
       "       [-5037.56599511],\n",
       "       [ -391.18246693],\n",
       "       [ -380.41432635],\n",
       "       [-1381.47338543],\n",
       "       [ -494.64088121],\n",
       "       [ -478.51248134],\n",
       "       [-1900.79006228],\n",
       "       [ -524.00692548],\n",
       "       [ -393.98862112],\n",
       "       [ -108.87023723],\n",
       "       [-1373.45199917],\n",
       "       [-1794.73023603]])"
      ]
     },
     "execution_count": 11,
     "metadata": {},
     "output_type": "execute_result"
    }
   ],
   "source": [
    "poly_pred = pipe.predict(x.reshape(-1,1))\n",
    "poly_pred"
   ]
  },
  {
   "cell_type": "code",
   "execution_count": 12,
   "metadata": {},
   "outputs": [],
   "source": [
    "sorted_zip = sorted(zip(x,poly_pred))\n",
    "x_poly,poly_pred = zip(*sorted_zip)\n"
   ]
  },
  {
   "cell_type": "code",
   "execution_count": 13,
   "metadata": {
    "collapsed": true
   },
   "outputs": [
    {
     "data": {
      "text/plain": [
       "[(-25.182082008541343, array([-6473.49753619])),\n",
       " (-22.14486845392465, array([-5037.56599511])),\n",
       " (-18.858360919283747, array([-3690.14394512])),\n",
       " (-16.869241759827492, array([-2978.83473956])),\n",
       " (-15.890583361534317, array([-2657.70690015])),\n",
       " (-13.026340029759268, array([-1827.15812092])),\n",
       " (-12.96205310288565, array([-1810.38619276])),\n",
       " (-12.901757799331584, array([-1794.73023603])),\n",
       " (-12.570229892560334, array([-1709.93735279])),\n",
       " (-11.9152264114072, array([-1548.8275326])),\n",
       " (-11.394951126810543, array([-1426.92827888])),\n",
       " (-11.19483649874387, array([-1381.47338543])),\n",
       " (-10.170256912587938, array([-1161.20586575])),\n",
       " (-9.978534599423476, array([-1122.30431758])),\n",
       " (-9.197003597194632, array([-971.28010745])),\n",
       " (-8.203911106690846, array([-796.87336807])),\n",
       " (-7.876828817308905, array([-743.71897352])),\n",
       " (-7.3123185093740215, array([-656.97776618])),\n",
       " (-7.1959507515998, array([-639.88375479])),\n",
       " (-7.092695761356165, array([-624.94114191])),\n",
       " (-7.084894510341836, array([-623.82078176])),\n",
       " (-6.752133177644516, array([-577.15727206])),\n",
       " (-6.352378567893924, array([-524.00692548])),\n",
       " (-5.989540686471057, array([-478.51248134])),\n",
       " (-5.973650859032692, array([-476.5798913])),\n",
       " (-3.966446209937371, array([-272.7774797])),\n",
       " (-3.7270087112860093, array([-253.80762599])),\n",
       " (-2.725305713351415, array([-186.7912172])),\n",
       " (-2.5167693565476066, array([-175.34568991])),\n",
       " (-1.4719160064540981, array([-131.00301083])),\n",
       " (-1.4093272107558033, array([-129.03506466])),\n",
       " (-1.2209294785305735, array([-123.58090838])),\n",
       " (0.4934756894813134, array([-106.34122884])),\n",
       " (0.757263725013062, array([-108.87023723])),\n",
       " (1.18082481141552, array([-115.82193821])),\n",
       " (1.3623220419382809, array([-119.89121797])),\n",
       " (2.1040673429286354, array([-143.321636])),\n",
       " (3.104672458080462, array([-192.24062869])),\n",
       " (3.4943412742089928, array([-216.6707377])),\n",
       " (4.321392221886096, array([-278.51456654])),\n",
       " (4.405354673616718, array([-285.55250913])),\n",
       " (4.644036630191965, array([-306.32411495])),\n",
       " (4.952756878913708, array([-334.86897097])),\n",
       " (5.276228179427815, array([-366.80833873])),\n",
       " (5.407992771498793, array([-380.41432635])),\n",
       " (5.509982201995236, array([-391.18246693])),\n",
       " (5.536243664694764, array([-393.98862112])),\n",
       " (5.718116454474751, array([-413.79842036])),\n",
       " (5.753202371876856, array([-417.69560749])),\n",
       " (5.760797687866759, array([-418.54248032])),\n",
       " (6.405810783565682, array([-494.64088121])),\n",
       " (6.457990441497511, array([-501.15825631])),\n",
       " (6.637847627132332, array([-524.037292])),\n",
       " (7.686280004625806, array([-670.19227286])),\n",
       " (9.173522680488835, array([-914.96576588])),\n",
       " (9.253220642037153, array([-929.32267462])),\n",
       " (9.322686377839588, array([-941.93922529])),\n",
       " (10.339530336835967, array([-1137.58964065])),\n",
       " (10.750683732812776, array([-1222.52949165])),\n",
       " (11.198117791623794, array([-1318.77917856])),\n",
       " (11.4443882733336, array([-1373.45199917])),\n",
       " (11.702604335315943, array([-1432.07029612])),\n",
       " (11.865147709812987, array([-1469.64880369])),\n",
       " (12.684377428961113, array([-1667.03356236])),\n",
       " (13.590169651788335, array([-1900.79006228])),\n",
       " (14.443759371138572, array([-2135.98720783])),\n",
       " (14.841853942393586, array([-2250.62564067])),\n",
       " (14.859691776402094, array([-2255.83603561])),\n",
       " (19.715971131674692, array([-3909.38433418])),\n",
       " (20.774234998369504, array([-4331.87200391]))]"
      ]
     },
     "execution_count": 13,
     "metadata": {},
     "output_type": "execute_result"
    }
   ],
   "source": [
    "sorted_zip"
   ]
  },
  {
   "cell_type": "code",
   "execution_count": 14,
   "metadata": {
    "collapsed": true
   },
   "outputs": [
    {
     "data": {
      "text/plain": [
       "((-25.182082008541343,\n",
       "  -22.14486845392465,\n",
       "  -18.858360919283747,\n",
       "  -16.869241759827492,\n",
       "  -15.890583361534317,\n",
       "  -13.026340029759268,\n",
       "  -12.96205310288565,\n",
       "  -12.901757799331584,\n",
       "  -12.570229892560334,\n",
       "  -11.9152264114072,\n",
       "  -11.394951126810543,\n",
       "  -11.19483649874387,\n",
       "  -10.170256912587938,\n",
       "  -9.978534599423476,\n",
       "  -9.197003597194632,\n",
       "  -8.203911106690846,\n",
       "  -7.876828817308905,\n",
       "  -7.3123185093740215,\n",
       "  -7.1959507515998,\n",
       "  -7.092695761356165,\n",
       "  -7.084894510341836,\n",
       "  -6.752133177644516,\n",
       "  -6.352378567893924,\n",
       "  -5.989540686471057,\n",
       "  -5.973650859032692,\n",
       "  -3.966446209937371,\n",
       "  -3.7270087112860093,\n",
       "  -2.725305713351415,\n",
       "  -2.5167693565476066,\n",
       "  -1.4719160064540981,\n",
       "  -1.4093272107558033,\n",
       "  -1.2209294785305735,\n",
       "  0.4934756894813134,\n",
       "  0.757263725013062,\n",
       "  1.18082481141552,\n",
       "  1.3623220419382809,\n",
       "  2.1040673429286354,\n",
       "  3.104672458080462,\n",
       "  3.4943412742089928,\n",
       "  4.321392221886096,\n",
       "  4.405354673616718,\n",
       "  4.644036630191965,\n",
       "  4.952756878913708,\n",
       "  5.276228179427815,\n",
       "  5.407992771498793,\n",
       "  5.509982201995236,\n",
       "  5.536243664694764,\n",
       "  5.718116454474751,\n",
       "  5.753202371876856,\n",
       "  5.760797687866759,\n",
       "  6.405810783565682,\n",
       "  6.457990441497511,\n",
       "  6.637847627132332,\n",
       "  7.686280004625806,\n",
       "  9.173522680488835,\n",
       "  9.253220642037153,\n",
       "  9.322686377839588,\n",
       "  10.339530336835967,\n",
       "  10.750683732812776,\n",
       "  11.198117791623794,\n",
       "  11.4443882733336,\n",
       "  11.702604335315943,\n",
       "  11.865147709812987,\n",
       "  12.684377428961113,\n",
       "  13.590169651788335,\n",
       "  14.443759371138572,\n",
       "  14.841853942393586,\n",
       "  14.859691776402094,\n",
       "  19.715971131674692,\n",
       "  20.774234998369504),\n",
       " (array([-6473.49753619]),\n",
       "  array([-5037.56599511]),\n",
       "  array([-3690.14394512]),\n",
       "  array([-2978.83473956]),\n",
       "  array([-2657.70690015]),\n",
       "  array([-1827.15812092]),\n",
       "  array([-1810.38619276]),\n",
       "  array([-1794.73023603]),\n",
       "  array([-1709.93735279]),\n",
       "  array([-1548.8275326]),\n",
       "  array([-1426.92827888]),\n",
       "  array([-1381.47338543]),\n",
       "  array([-1161.20586575]),\n",
       "  array([-1122.30431758]),\n",
       "  array([-971.28010745]),\n",
       "  array([-796.87336807]),\n",
       "  array([-743.71897352]),\n",
       "  array([-656.97776618]),\n",
       "  array([-639.88375479]),\n",
       "  array([-624.94114191]),\n",
       "  array([-623.82078176]),\n",
       "  array([-577.15727206]),\n",
       "  array([-524.00692548]),\n",
       "  array([-478.51248134]),\n",
       "  array([-476.5798913]),\n",
       "  array([-272.7774797]),\n",
       "  array([-253.80762599]),\n",
       "  array([-186.7912172]),\n",
       "  array([-175.34568991]),\n",
       "  array([-131.00301083]),\n",
       "  array([-129.03506466]),\n",
       "  array([-123.58090838]),\n",
       "  array([-106.34122884]),\n",
       "  array([-108.87023723]),\n",
       "  array([-115.82193821]),\n",
       "  array([-119.89121797]),\n",
       "  array([-143.321636]),\n",
       "  array([-192.24062869]),\n",
       "  array([-216.6707377]),\n",
       "  array([-278.51456654]),\n",
       "  array([-285.55250913]),\n",
       "  array([-306.32411495]),\n",
       "  array([-334.86897097]),\n",
       "  array([-366.80833873]),\n",
       "  array([-380.41432635]),\n",
       "  array([-391.18246693]),\n",
       "  array([-393.98862112]),\n",
       "  array([-413.79842036]),\n",
       "  array([-417.69560749]),\n",
       "  array([-418.54248032]),\n",
       "  array([-494.64088121]),\n",
       "  array([-501.15825631]),\n",
       "  array([-524.037292]),\n",
       "  array([-670.19227286]),\n",
       "  array([-914.96576588]),\n",
       "  array([-929.32267462]),\n",
       "  array([-941.93922529]),\n",
       "  array([-1137.58964065]),\n",
       "  array([-1222.52949165]),\n",
       "  array([-1318.77917856]),\n",
       "  array([-1373.45199917]),\n",
       "  array([-1432.07029612]),\n",
       "  array([-1469.64880369]),\n",
       "  array([-1667.03356236]),\n",
       "  array([-1900.79006228]),\n",
       "  array([-2135.98720783]),\n",
       "  array([-2250.62564067]),\n",
       "  array([-2255.83603561]),\n",
       "  array([-3909.38433418]),\n",
       "  array([-4331.87200391])))"
      ]
     },
     "execution_count": 14,
     "metadata": {},
     "output_type": "execute_result"
    }
   ],
   "source": [
    "x_poly,poly_pred"
   ]
  },
  {
   "cell_type": "code",
   "execution_count": 15,
   "metadata": {
    "collapsed": true
   },
   "outputs": [
    {
     "data": {
      "image/png": "[encoded data removed]",
      "text/plain": [
       "<Figure size 720x360 with 1 Axes>"
      ]
     },
     "metadata": {
      "needs_background": "light"
     },
     "output_type": "display_data"
    }
   ],
   "source": [
    "## Plotting the polynomial regression values:\n",
    "\n",
    "plt.figure(figsize = (10,5))\n",
    "plt.scatter(x,y,s = 15)\n",
    "plt.plot(x,y_pred,color = 'r',label = \"Linear regression\")\n",
    "plt.plot(x_poly,poly_pred,color = 'g',label = \"Polynomial Regression\")\n",
    "plt.xlabel(\"Predictor\",fontsize = 16)\n",
    "plt.ylabel(\"Target\",fontsize = 16)\n",
    "plt.legend(loc = \"best\")\n",
    "plt.show()"
   ]
  },
  {
   "cell_type": "code",
   "execution_count": 16,
   "metadata": {},
   "outputs": [
    {
     "name": "stdout",
     "output_type": "stream",
     "text": [
      "RMSE for polynomial Regression:  1801.4347472351628\n"
     ]
    }
   ],
   "source": [
    "print(\"RMSE for polynomial Regression: \",np.sqrt(mean_squared_error(y,poly_pred)))"
   ]
  },
  {
   "cell_type": "markdown",
   "metadata": {},
   "source": [
    "**Polynomial regression for more input features**:\n",
    "\n",
    "       y = c + c1x1x2 +c2x1^2x2^2 + c3x1^3x2^3 +.....cnx1^nx2^n\n",
    "* y is the target variable\n",
    "* x1 and x2 are the predictors\n",
    "* c1,c2,cn are the weight of the regression equation\n",
    "* c is the bias"
   ]
  },
  {
   "cell_type": "markdown",
   "metadata": {},
   "source": []
  },
  {
   "cell_type": "markdown",
   "metadata": {},
   "source": []
  },
  {
   "cell_type": "code",
   "execution_count": 17,
   "metadata": {},
   "outputs": [
    {
     "data": {
      "text/html": [
       "<div>\n",
       "<style scoped>\n",
       "    .dataframe tbody tr th:only-of-type {\n",
       "        vertical-align: middle;\n",
       "    }\n",
       "\n",
       "    .dataframe tbody tr th {\n",
       "        vertical-align: top;\n",
       "    }\n",
       "\n",
       "    .dataframe thead th {\n",
       "        text-align: right;\n",
       "    }\n",
       "</style>\n",
       "<table border=\"1\" class=\"dataframe\">\n",
       "  <thead>\n",
       "    <tr style=\"text-align: right;\">\n",
       "      <th></th>\n",
       "      <th>Year</th>\n",
       "      <th>Value</th>\n",
       "    </tr>\n",
       "  </thead>\n",
       "  <tbody>\n",
       "    <tr>\n",
       "      <th>0</th>\n",
       "      <td>1960</td>\n",
       "      <td>5.918412e+10</td>\n",
       "    </tr>\n",
       "    <tr>\n",
       "      <th>1</th>\n",
       "      <td>1961</td>\n",
       "      <td>4.955705e+10</td>\n",
       "    </tr>\n",
       "    <tr>\n",
       "      <th>2</th>\n",
       "      <td>1962</td>\n",
       "      <td>4.668518e+10</td>\n",
       "    </tr>\n",
       "    <tr>\n",
       "      <th>3</th>\n",
       "      <td>1963</td>\n",
       "      <td>5.009730e+10</td>\n",
       "    </tr>\n",
       "    <tr>\n",
       "      <th>4</th>\n",
       "      <td>1964</td>\n",
       "      <td>5.906225e+10</td>\n",
       "    </tr>\n",
       "  </tbody>\n",
       "</table>\n",
       "</div>"
      ],
      "text/plain": [
       "   Year         Value\n",
       "0  1960  5.918412e+10\n",
       "1  1961  4.955705e+10\n",
       "2  1962  4.668518e+10\n",
       "3  1963  5.009730e+10\n",
       "4  1964  5.906225e+10"
      ]
     },
     "execution_count": 17,
     "metadata": {},
     "output_type": "execute_result"
    }
   ],
   "source": [
    "data = pd.read_csv(\"https://raw.githubusercontent.com/AP-State-Skill-Development-Corporation/Datasets/master/Regression/china_gdp.csv\")\n",
    "data.head()"
   ]
  },
  {
   "cell_type": "code",
   "execution_count": 18,
   "metadata": {},
   "outputs": [
    {
     "data": {
      "text/plain": [
       "Index(['Year', 'Value'], dtype='object')"
      ]
     },
     "execution_count": 18,
     "metadata": {},
     "output_type": "execute_result"
    }
   ],
   "source": [
    "data.columns"
   ]
  },
  {
   "cell_type": "code",
   "execution_count": 19,
   "metadata": {},
   "outputs": [
    {
     "data": {
      "text/plain": [
       "(55, 2)"
      ]
     },
     "execution_count": 19,
     "metadata": {},
     "output_type": "execute_result"
    }
   ],
   "source": [
    "data.shape"
   ]
  },
  {
   "cell_type": "code",
   "execution_count": 20,
   "metadata": {
    "collapsed": true
   },
   "outputs": [
    {
     "data": {
      "image/png": "[encoded data removed]",
      "text/plain": [
       "<Figure size 432x288 with 1 Axes>"
      ]
     },
     "metadata": {
      "needs_background": "light"
     },
     "output_type": "display_data"
    }
   ],
   "source": [
    "plt.scatter(data[\"Year\"],data[\"Value\"])\n",
    "plt.show()"
   ]
  },
  {
   "cell_type": "code",
   "execution_count": 25,
   "metadata": {},
   "outputs": [],
   "source": [
    "x = data[[\"Year\"]]\n",
    "y = data[\"Value\"]"
   ]
  },
  {
   "cell_type": "code",
   "execution_count": 26,
   "metadata": {},
   "outputs": [],
   "source": [
    "from  sklearn.preprocessing import PolynomialFeatures\n"
   ]
  },
  {
   "cell_type": "code",
   "execution_count": 27,
   "metadata": {},
   "outputs": [],
   "source": [
    "poly = PolynomialFeatures(degree = 3)\n",
    "x_poly = poly.fit_transform(x)\n",
    "\n"
   ]
  },
  {
   "cell_type": "code",
   "execution_count": 28,
   "metadata": {},
   "outputs": [],
   "source": [
    "from sklearn.linear_model import LinearRegression"
   ]
  },
  {
   "cell_type": "code",
   "execution_count": 29,
   "metadata": {},
   "outputs": [
    {
     "data": {
      "text/plain": [
       "LinearRegression(copy_X=True, fit_intercept=True, n_jobs=None,\n",
       "         normalize=False)"
      ]
     },
     "execution_count": 29,
     "metadata": {},
     "output_type": "execute_result"
    }
   ],
   "source": [
    "model = LinearRegression()\n",
    "model.fit(x_poly,y)"
   ]
  },
  {
   "cell_type": "code",
   "execution_count": 30,
   "metadata": {},
   "outputs": [],
   "source": [
    "y_pred = model.predict(x_poly)"
   ]
  },
  {
   "cell_type": "code",
   "execution_count": 31,
   "metadata": {
    "collapsed": true
   },
   "outputs": [
    {
     "data": {
      "text/plain": [
       "array([-7.05978696e+11, -4.65669162e+11, -2.55990092e+11, -7.52860431e+10,\n",
       "        7.80984243e+10,  2.05818757e+11,  3.09530392e+11,  3.90888773e+11,\n",
       "        4.51549341e+11,  4.93167538e+11,  5.17398805e+11,  5.25898586e+11,\n",
       "        5.20322320e+11,  5.02325448e+11,  4.73563416e+11,  4.35691663e+11,\n",
       "        3.90365630e+11,  3.39240759e+11,  2.83972493e+11,  2.26216272e+11,\n",
       "        1.67627540e+11,  1.09861736e+11,  5.45743027e+10,  3.42068224e+09,\n",
       "       -4.19436836e+10, -7.98633533e+10, -1.08682886e+11, -1.26746839e+11,\n",
       "       -1.32399770e+11, -1.23986238e+11, -9.98508042e+10, -5.83380219e+10,\n",
       "        2.20754688e+09,  8.34413471e+10,  1.87018817e+11,  3.14595399e+11,\n",
       "        4.67826538e+11,  6.48367672e+11,  8.57874244e+11,  1.09800169e+12,\n",
       "        1.37040547e+12,  1.67674100e+12,  2.01866375e+12,  2.39782913e+12,\n",
       "        2.81589261e+12,  3.27450961e+12,  3.77533559e+12,  4.32002598e+12,\n",
       "        4.91023622e+12,  5.54762177e+12,  6.23383805e+12,  6.97054050e+12,\n",
       "        7.75938459e+12,  8.60202573e+12,  9.50011938e+12])"
      ]
     },
     "execution_count": 31,
     "metadata": {},
     "output_type": "execute_result"
    }
   ],
   "source": [
    "y_pred"
   ]
  },
  {
   "cell_type": "code",
   "execution_count": 40,
   "metadata": {},
   "outputs": [
    {
     "name": "stdout",
     "output_type": "stream",
     "text": [
      "r2_score: 0.9645101047000898\n",
      "RMSE : 2.177936487194082e+23\n"
     ]
    }
   ],
   "source": [
    "from sklearn.metrics import r2_score,mean_squared_error\n",
    "print(\"r2_score:\",r2_score(y,y_pred))\n",
    "print(\"RMSE :\",(mean_squared_error(y,y_pred)))\n"
   ]
  },
  {
   "cell_type": "code",
   "execution_count": 42,
   "metadata": {},
   "outputs": [
    {
     "data": {
      "image/png": "[encoded data removed]",
      "text/plain": [
       "<Figure size 432x288 with 1 Axes>"
      ]
     },
     "metadata": {
      "needs_background": "light"
     },
     "output_type": "display_data"
    }
   ],
   "source": [
    "plt.scatter(data[\"Year\"],data[\"Value\"])\n",
    "plt.plot(x,y_pred,c = \"r\")\n",
    "plt.show()"
   ]
  },
  {
   "cell_type": "code",
   "execution_count": 44,
   "metadata": {},
   "outputs": [
    {
     "data": {
      "text/plain": [
       "[0.8424443474171446,\n",
       " 0.9645101047000898,\n",
       " 0.965120230215125,\n",
       " 0.9657218086535269,\n",
       " 0.9663149021194226,\n",
       " 0.9668995728675763,\n",
       " 0.9674758835396048,\n",
       " 0.9680438971170584,\n",
       " 0.9686036769359764,\n",
       " 0.9691552866546761,\n",
       " 0.9696987902292203,\n",
       " 0.9702342519188323,\n",
       " 0.9707617362692899]"
      ]
     },
     "execution_count": 44,
     "metadata": {},
     "output_type": "execute_result"
    }
   ],
   "source": [
    "acc = []\n",
    "for i in range(2,15):\n",
    "    poly = PolynomialFeatures(degree = i)\n",
    "    x_poly = poly.fit_transform(x)\n",
    "    model = LinearRegression()\n",
    "    model.fit(x_poly,y)\n",
    "    y_pred = model.predict(x_poly)\n",
    "    acc.append(r2_score(y,y_pred))\n",
    "acc"
   ]
  },
  {
   "cell_type": "code",
   "execution_count": 47,
   "metadata": {},
   "outputs": [
    {
     "data": {
      "image/png": "[encoded data removed]",
      "text/plain": [
       "<Figure size 432x288 with 1 Axes>"
      ]
     },
     "metadata": {
      "needs_background": "light"
     },
     "output_type": "display_data"
    }
   ],
   "source": [
    "import numpy as np\n",
    "plt.plot(np.arange(2,15),acc)\n",
    "plt.xlabel(\"Degree of Polynomial Features\")\n",
    "plt.ylabel(\"Accuracy\")\n",
    "plt.grid()\n",
    "plt.title(\"Predicting Non linear Data with Polynomial Features\")\n",
    "plt.show()"
   ]
  },
  {
   "cell_type": "markdown",
   "metadata": {},
   "source": [
    "### Task:\n",
    "\n",
    "* Apply Polynomial regression by taking two predictors.\n",
    "* https://raw.githubusercontent.com/AP-State-Skill-Development-Corporation/Datasets/master/Regression/headbrain.csv"
   ]
  },
  {
   "cell_type": "code",
   "execution_count": 48,
   "metadata": {},
   "outputs": [],
   "source": [
    "d = pd.read_csv(\"https://raw.githubusercontent.com/AP-State-Skill-Development-Corporation/Datasets/master/Regression/headbrain.csv\")"
   ]
  },
  {
   "cell_type": "code",
   "execution_count": 49,
   "metadata": {
    "collapsed": true
   },
   "outputs": [
    {
     "data": {
      "text/html": [
       "<div>\n",
       "<style scoped>\n",
       "    .dataframe tbody tr th:only-of-type {\n",
       "        vertical-align: middle;\n",
       "    }\n",
       "\n",
       "    .dataframe tbody tr th {\n",
       "        vertical-align: top;\n",
       "    }\n",
       "\n",
       "    .dataframe thead th {\n",
       "        text-align: right;\n",
       "    }\n",
       "</style>\n",
       "<table border=\"1\" class=\"dataframe\">\n",
       "  <thead>\n",
       "    <tr style=\"text-align: right;\">\n",
       "      <th></th>\n",
       "      <th>Gender</th>\n",
       "      <th>Age Range</th>\n",
       "      <th>Head Size(cm^3)</th>\n",
       "      <th>Brain Weight(grams)</th>\n",
       "    </tr>\n",
       "  </thead>\n",
       "  <tbody>\n",
       "    <tr>\n",
       "      <th>0</th>\n",
       "      <td>1</td>\n",
       "      <td>1</td>\n",
       "      <td>4512</td>\n",
       "      <td>1530</td>\n",
       "    </tr>\n",
       "    <tr>\n",
       "      <th>1</th>\n",
       "      <td>1</td>\n",
       "      <td>1</td>\n",
       "      <td>3738</td>\n",
       "      <td>1297</td>\n",
       "    </tr>\n",
       "    <tr>\n",
       "      <th>2</th>\n",
       "      <td>1</td>\n",
       "      <td>1</td>\n",
       "      <td>4261</td>\n",
       "      <td>1335</td>\n",
       "    </tr>\n",
       "    <tr>\n",
       "      <th>3</th>\n",
       "      <td>1</td>\n",
       "      <td>1</td>\n",
       "      <td>3777</td>\n",
       "      <td>1282</td>\n",
       "    </tr>\n",
       "    <tr>\n",
       "      <th>4</th>\n",
       "      <td>1</td>\n",
       "      <td>1</td>\n",
       "      <td>4177</td>\n",
       "      <td>1590</td>\n",
       "    </tr>\n",
       "  </tbody>\n",
       "</table>\n",
       "</div>"
      ],
      "text/plain": [
       "   Gender  Age Range  Head Size(cm^3)  Brain Weight(grams)\n",
       "0       1          1             4512                 1530\n",
       "1       1          1             3738                 1297\n",
       "2       1          1             4261                 1335\n",
       "3       1          1             3777                 1282\n",
       "4       1          1             4177                 1590"
      ]
     },
     "execution_count": 49,
     "metadata": {},
     "output_type": "execute_result"
    }
   ],
   "source": [
    "d.head()"
   ]
  },
  {
   "cell_type": "code",
   "execution_count": null,
   "metadata": {},
   "outputs": [],
   "source": []
  }
 ],
 "metadata": {
  "kernelspec": {
   "display_name": "Python 3",
   "language": "python",
   "name": "python3"
  },
  "language_info": {
   "codemirror_mode": {
    "name": "ipython",
    "version": 3
   },
   "file_extension": ".py",
   "mimetype": "text/x-python",
   "name": "python",
   "nbconvert_exporter": "python",
   "pygments_lexer": "ipython3",
   "version": "3.7.3"
  }
 },
 "nbformat": 4,
 "nbformat_minor": 2
}
